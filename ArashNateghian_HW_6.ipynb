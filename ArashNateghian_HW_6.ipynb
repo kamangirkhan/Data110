{
  "cells": [
    {
      "cell_type": "markdown",
      "metadata": {
        "id": "view-in-github",
        "colab_type": "text"
      },
      "source": [
        "<a href=\"https://colab.research.google.com/github/kamangirkhan/Data110/blob/main/ArashNateghian_HW_6.ipynb\" target=\"_parent\"><img src=\"https://colab.research.google.com/assets/colab-badge.svg\" alt=\"Open In Colab\"/></a>"
      ]
    },
    {
      "cell_type": "code",
      "execution_count": null,
      "id": "a99f9f44-1993-440c-a5d8-1df316412ed0",
      "metadata": {
        "id": "a99f9f44-1993-440c-a5d8-1df316412ed0"
      },
      "outputs": [],
      "source": [
        "# Arash Nateghian"
      ]
    },
    {
      "cell_type": "markdown",
      "id": "278bb624-ee87-4b3e-943f-dbe6df7bddb9",
      "metadata": {
        "id": "278bb624-ee87-4b3e-943f-dbe6df7bddb9"
      },
      "source": [
        "1.\tWrite code to –\n",
        "  \n",
        "o\tImplement a function which will process the attached file, 50-states.txt, and create a dictionary of the U.S. states and their capitals\n",
        "\n",
        "o\tImplement another function to Randomly quiz a user by displaying the name of a state and asking for the respective capital name\n",
        "\n",
        "\tExample:\n",
        "    \n",
        "•\tWhat’s the capital of Maryland?\n",
        "\n",
        "•\tInform user whether their response was correct (or provide the correct capital name)\n",
        "\n",
        "•\tYou are here to practice coding – implement your logic to your liking"
      ]
    },
    {
      "cell_type": "code",
      "execution_count": null,
      "id": "cae1687e-574f-455d-bde0-7059369087a9",
      "metadata": {
        "id": "cae1687e-574f-455d-bde0-7059369087a9",
        "outputId": "70ac9d04-d341-4470-d117-efaada592340"
      },
      "outputs": [
        {
          "name": "stdout",
          "output_type": "stream",
          "text": [
            "Loaded 50 states from '50-states.txt'.\n",
            "\n",
            "U.S. State Capitals Quiz\n",
            "Type 'exit' anytime to stop.\n",
            "\n"
          ]
        }
      ],
      "source": [
        "import random\n",
        "\n",
        "def load_states(filename):\n",
        "\n",
        "    states_dict = {}\n",
        "    try:\n",
        "        with open(filename, \"r\") as file:\n",
        "            for line in file:\n",
        "                parts = line.strip().split(\",\")\n",
        "                if len(parts) == 2:\n",
        "                    capital, state = parts\n",
        "                    # Store as {state: capital}\n",
        "                    states_dict[state.strip()] = capital.strip()\n",
        "        print(f\"Loaded {len(states_dict)} states from '{filename}'.\\n\")\n",
        "    except FileNotFoundError:\n",
        "        print(f\"File not found: {filename}\")\n",
        "    return states_dict\n",
        "\n",
        "def quiz_user(states_dict):\n",
        "\n",
        "    if not states_dict:\n",
        "        print(\"No data loaded. Please load the states first.\\n\")\n",
        "        return\n",
        "\n",
        "    print(\"U.S. State Capitals Quiz\")\n",
        "    print(\"Type 'exit' anytime to stop.\\n\")\n",
        "\n",
        "    score = 0\n",
        "    total = 0\n",
        "\n",
        "    while True:\n",
        "        # Randomly pick a state\n",
        "        state = random.choice(list(states_dict.keys()))\n",
        "        capital = states_dict[state]\n",
        "        user_input = input(f\"What’s the capital of {state}? \").strip()\n",
        "\n",
        "        if user_input.lower() == \"exit\":\n",
        "            break\n",
        "\n",
        "        total += 1\n",
        "        if user_input.lower() == capital.lower():\n",
        "            print(\"Correct!\\n\")\n",
        "            score += 1\n",
        "        else:\n",
        "            print(f\"Incorrect. The capital of {state} is {capital}.\\n\")\n",
        "\n",
        "    print(f\"Quiz complete! You answered {score}/{total} correctly.\")\n",
        "    if total > 0:\n",
        "        print(f\"Your score: {score/total*100:.1f}%\\n\")\n",
        "    print(\"Thanks for playing!\")\n",
        "\n",
        "def main():\n",
        "\n",
        "    filename = \"50-states.txt\"\n",
        "    states_dict = load_states(filename)\n",
        "    if states_dict:\n",
        "        quiz_user(states_dict)\n",
        "\n",
        "if __name__ == \"__main__\":\n",
        "    main()"
      ]
    },
    {
      "cell_type": "markdown",
      "id": "ff0c4cf9-83c6-4448-9782-c6f1793c9c0e",
      "metadata": {
        "id": "ff0c4cf9-83c6-4448-9782-c6f1793c9c0e"
      },
      "source": [
        "This Python program quizzes the user on U.S. state capitals.\n",
        "It reads data from a file (50-states.txt) where each line contains a capital and its corresponding state (formatted as Capital, State)."
      ]
    },
    {
      "cell_type": "markdown",
      "id": "6f174be5-f48b-4733-bfd5-8c7de3bcf587",
      "metadata": {
        "id": "6f174be5-f48b-4733-bfd5-8c7de3bcf587"
      },
      "source": [
        "2.\tCreate the following three dictionaries: Gary, Alice, and Tyler\n",
        "Gary = {\n",
        "  \"name\": \"Gary\",\n",
        "  \"homework\": [90.0,97.0,75.0,92.0],\n",
        "  \"quizzes\": [88.0,40.0,94.0],\n",
        "  \"tests\": [75.0,90.0]\n",
        "}\n",
        "Alice = {\n",
        "  \"name\": \"Alice\",\n",
        "  \"homework\": [100.0, 92.0, 98.0, 100.0],\n",
        "  \"quizzes\": [82.0, 83.0, 91.0],\n",
        "  \"tests\": [89.0, 97.0]\n",
        "}\n",
        "Tyler = {\n",
        "  \"name\": \"Tyler\",\n",
        "  \"homework\": [0.0, 87.0, 75.0, 22.0],\n",
        "  \"quizzes\": [0.0, 75.0, 78.0],\n",
        "  \"tests\": [100.0, 100.0]\n",
        "}\n",
        "o\tfor each student, display their data:\n",
        "\tname\n",
        "\thomework\n",
        "\tquizzes\n",
        "\ttests\n",
        "o\tWrite an average() that accepts a list of numbers and returns the average\n",
        "\tIt has one argument, list of numbers\n",
        "\tUtilize the built-in sum() function if you like\n",
        "\tReturn the average as its result\n",
        "o\tCalculate various averages for each  student (HW, quiz & test averages)\n",
        "\tThis is for you to practice making function calls with dictionaries\n",
        "o\tDetermine the overall grade of each student\n",
        "\t Homework is 10%, quizzes are 30% and tests are 60%.\n",
        "\tAssign final course grades (A, B, …,F) accordingly where A is assigned to any student who overall grade is 90% and higher\n"
      ]
    },
    {
      "cell_type": "code",
      "execution_count": null,
      "id": "668ac797-e079-4982-936e-2672686a5e90",
      "metadata": {
        "id": "668ac797-e079-4982-936e-2672686a5e90",
        "outputId": "ff07c7f7-42c7-47dd-9289-8a4113b0ffc2"
      },
      "outputs": [
        {
          "name": "stdout",
          "output_type": "stream",
          "text": [
            "=== Student Data ===\n",
            "\n",
            "Name: Gary\n",
            "Homework: [90.0, 97.0, 75.0, 92.0]\n",
            "Quizzes:  [88.0, 40.0, 94.0]\n",
            "Tests:    [75.0, 90.0]\n",
            "\n",
            "Name: Alice\n",
            "Homework: [100.0, 92.0, 98.0, 100.0]\n",
            "Quizzes:  [82.0, 83.0, 91.0]\n",
            "Tests:    [89.0, 97.0]\n",
            "\n",
            "Name: Tyler\n",
            "Homework: [0.0, 87.0, 75.0, 22.0]\n",
            "Quizzes:  [0.0, 75.0, 78.0]\n",
            "Tests:    [100.0, 100.0]\n",
            "\n",
            "=== Student Grades ===\n",
            "\n",
            "Gary's averages:\n",
            "  Homework Avg: 88.50\n",
            "  Quiz Avg:     74.00\n",
            "  Test Avg:     82.50\n",
            "  Overall Grade: 80.55 (B)\n",
            "\n",
            "Alice's averages:\n",
            "  Homework Avg: 97.50\n",
            "  Quiz Avg:     85.33\n",
            "  Test Avg:     93.00\n",
            "  Overall Grade: 91.15 (A)\n",
            "\n",
            "Tyler's averages:\n",
            "  Homework Avg: 46.00\n",
            "  Quiz Avg:     51.00\n",
            "  Test Avg:     100.00\n",
            "  Overall Grade: 79.90 (C)\n"
          ]
        }
      ],
      "source": [
        "# --- Step 1: Create student dictionaries ---\n",
        "Gary = {\n",
        "    \"name\": \"Gary\",\n",
        "    \"homework\": [90.0, 97.0, 75.0, 92.0],\n",
        "    \"quizzes\": [88.0, 40.0, 94.0],\n",
        "    \"tests\": [75.0, 90.0]\n",
        "}\n",
        "\n",
        "Alice = {\n",
        "    \"name\": \"Alice\",\n",
        "    \"homework\": [100.0, 92.0, 98.0, 100.0],\n",
        "    \"quizzes\": [82.0, 83.0, 91.0],\n",
        "    \"tests\": [89.0, 97.0]\n",
        "}\n",
        "\n",
        "Tyler = {\n",
        "    \"name\": \"Tyler\",\n",
        "    \"homework\": [0.0, 87.0, 75.0, 22.0],\n",
        "    \"quizzes\": [0.0, 75.0, 78.0],\n",
        "    \"tests\": [100.0, 100.0]\n",
        "}\n",
        "\n",
        "# --- Step 2: Display each student's data ---\n",
        "students = [Gary, Alice, Tyler]\n",
        "\n",
        "print(\"=== Student Data ===\")\n",
        "for s in students:\n",
        "    print(f\"\\nName: {s['name']}\")\n",
        "    print(f\"Homework: {s['homework']}\")\n",
        "    print(f\"Quizzes:  {s['quizzes']}\")\n",
        "    print(f\"Tests:    {s['tests']}\")\n",
        "\n",
        "\n",
        "# --- Step 3: Define a function to calculate averages ---\n",
        "def average(numbers):\n",
        "    \"\"\"Return the average of a list of numbers.\"\"\"\n",
        "    return sum(numbers) / len(numbers) if numbers else 0\n",
        "\n",
        "\n",
        "# --- Step 4: Function to compute weighted average grade ---\n",
        "def get_overall_grade(student):\n",
        "    \"\"\"Compute overall weighted grade for a student.\"\"\"\n",
        "    hw_avg = average(student[\"homework\"])\n",
        "    quiz_avg = average(student[\"quizzes\"])\n",
        "    test_avg = average(student[\"tests\"])\n",
        "\n",
        "    overall = hw_avg * 0.1 + quiz_avg * 0.3 + test_avg * 0.6\n",
        "    return overall, hw_avg, quiz_avg, test_avg\n",
        "\n",
        "\n",
        "# --- Step 5: Function to assign letter grade ---\n",
        "def letter_grade(score):\n",
        "    \"\"\"Return letter grade based on numeric score.\"\"\"\n",
        "    if score >= 90:\n",
        "        return \"A\"\n",
        "    elif score >= 80:\n",
        "        return \"B\"\n",
        "    elif score >= 70:\n",
        "        return \"C\"\n",
        "    elif score >= 60:\n",
        "        return \"D\"\n",
        "    else:\n",
        "        return \"F\"\n",
        "\n",
        "\n",
        "# --- Step 6: Display calculated results ---\n",
        "print(\"\\n=== Student Grades ===\")\n",
        "for s in students:\n",
        "    overall, hw, quiz, test = get_overall_grade(s)\n",
        "    print(f\"\\n{s['name']}'s averages:\")\n",
        "    print(f\"  Homework Avg: {hw:.2f}\")\n",
        "    print(f\"  Quiz Avg:     {quiz:.2f}\")\n",
        "    print(f\"  Test Avg:     {test:.2f}\")\n",
        "    print(f\"  Overall Grade: {overall:.2f} ({letter_grade(overall)})\")\n"
      ]
    },
    {
      "cell_type": "markdown",
      "id": "5613c7c4-7e2d-49c0-ad43-1a02eb112b52",
      "metadata": {
        "id": "5613c7c4-7e2d-49c0-ad43-1a02eb112b52"
      },
      "source": [
        "This Python program stores and analyzes students’ grades using dictionaries.\n",
        "It calculates each student’s average scores for homework, quizzes, and tests, then computes an overall weighted grade where homework = 10%, quizzes = 30%, and tests = 60%.\n",
        "Finally, it assigns a letter grade (A–F) based on the overall score."
      ]
    },
    {
      "cell_type": "markdown",
      "id": "40404d4f-6db7-4116-b5c1-0d912868b68f",
      "metadata": {
        "id": "40404d4f-6db7-4116-b5c1-0d912868b68f"
      },
      "source": [
        "### **What Did I Learn?**\n",
        "\n",
        "I learned how to use dictionaries and lists together to organize student data and calculate averages.\n",
        "I also practiced writing reusable functions for computing averages, weighted grades, and letter grades, which made the program cleaner and easier to maintain.\n",
        "\n",
        "### **What Challenges Did I Encounter?**\n",
        "\n",
        "The main challenge was structuring the functions so that they could process dictionary data correctly.\n",
        "Another minor challenge was formatting the output to display averages and grades clearly.\n",
        "\n",
        "### **Enhancements I Made**\n",
        "\n",
        "I added a weighted grading system (homework 10%, quizzes 30%, tests 60%) and a letter-grade function that automatically assigns A–F based on the overall percentage. I also improved the print layout to make the results easier to read.\n",
        "\n",
        "### **Anything Else I’d Like to Mention**\n",
        "\n",
        "This project helped reinforce how modular design and simple logic can make even small programs easy to scale and modify later.\n"
      ]
    }
  ],
  "metadata": {
    "kernelspec": {
      "display_name": "Python 3 (ipykernel)",
      "language": "python",
      "name": "python3"
    },
    "language_info": {
      "codemirror_mode": {
        "name": "ipython",
        "version": 3
      },
      "file_extension": ".py",
      "mimetype": "text/x-python",
      "name": "python",
      "nbconvert_exporter": "python",
      "pygments_lexer": "ipython3",
      "version": "3.13.5"
    },
    "colab": {
      "provenance": [],
      "include_colab_link": true
    }
  },
  "nbformat": 4,
  "nbformat_minor": 5
}