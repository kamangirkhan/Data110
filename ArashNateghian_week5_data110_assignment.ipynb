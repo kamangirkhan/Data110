{
  "nbformat": 4,
  "nbformat_minor": 0,
  "metadata": {
    "colab": {
      "private_outputs": true,
      "provenance": [],
      "name": "ArashNateghian_week5_data110_assignment.ipynb",
      "include_colab_link": true
    },
    "kernelspec": {
      "name": "python3",
      "display_name": "Python 3"
    },
    "language_info": {
      "name": "python"
    }
  },
  "cells": [
    {
      "cell_type": "markdown",
      "metadata": {
        "id": "view-in-github",
        "colab_type": "text"
      },
      "source": [
        "<a href=\"https://colab.research.google.com/github/kamangirkhan/Data110/blob/main/ArashNateghian_week5_data110_assignment.ipynb\" target=\"_parent\"><img src=\"https://colab.research.google.com/assets/colab-badge.svg\" alt=\"Open In Colab\"/></a>"
      ]
    },
    {
      "cell_type": "markdown",
      "source": [
        "# Setting Up Your Environment and\n",
        "1. Install any necessary packages"
      ],
      "metadata": {
        "id": "HEqhCWnovnkz"
      }
    },
    {
      "cell_type": "code",
      "execution_count": null,
      "metadata": {
        "id": "5XzeNRjcvSgi"
      },
      "outputs": [],
      "source": [
        "!pip install rpy2\n",
        "!pip install joypy"
      ]
    },
    {
      "cell_type": "markdown",
      "source": [
        "2. Import the required libraries:"
      ],
      "metadata": {
        "id": "sU4hVHMgvyqr"
      }
    },
    {
      "cell_type": "code",
      "source": [
        "import pandas as pd\n",
        "import seaborn as sns\n",
        "import matplotlib.pyplot as plt\n",
        "import numpy as np\n",
        "import joypy"
      ],
      "metadata": {
        "id": "2is_tYkxv3fb"
      },
      "execution_count": null,
      "outputs": []
    },
    {
      "cell_type": "markdown",
      "source": [
        "Part 2: Load and Explore the Dataset\n",
        "\n",
        "1. Load the Palmer Penguins dataset:\n",
        "\n",
        "url = \"https://raw.githubusercontent.com/mwaskom/seaborn-data/master/penguins.csv\"\n"
      ],
      "metadata": {
        "id": "5Vs2RF4Rv7Ad"
      }
    },
    {
      "cell_type": "code",
      "source": [
        "penguins = pd.read_csv('https://raw.githubusercontent.com/mwaskom/seaborn-data/master/penguins.csv')\n",
        "penguins.head()"
      ],
      "metadata": {
        "id": "6QCHSOn0wImo"
      },
      "execution_count": null,
      "outputs": []
    },
    {
      "cell_type": "markdown",
      "source": [
        "2. The dataset contains missing values. Handle them by removing rows with NaN values:"
      ],
      "metadata": {
        "id": "zlBc4A29wJQB"
      }
    },
    {
      "cell_type": "code",
      "source": [
        "print(\"Missing values before cleaning:\\n\", penguins.isnull().sum())\n",
        "penguins_cleaned = penguins.dropna()\n",
        "print(\"\\nMissing values after cleaning:\\n\", penguins_cleaned.isnull().sum())\n",
        "penguins_cleaned.head()"
      ],
      "metadata": {
        "id": "7tQEwznIwN92"
      },
      "execution_count": null,
      "outputs": []
    },
    {
      "cell_type": "markdown",
      "source": [
        "# Part 2: Data Visualization\n",
        "\n",
        "Task 1: Boxplot - Analyzing Body Mass by Species\n",
        "Create a boxplot to compare the distribution of penguin body mass across different species:"
      ],
      "metadata": {
        "id": "XxVuiEy8wOmO"
      }
    },
    {
      "cell_type": "markdown",
      "source": [],
      "metadata": {
        "id": "yB4k24eDv4H7"
      }
    },
    {
      "cell_type": "code",
      "source": [
        "plt.figure(figsize=(8, 6))\n",
        "sns.boxplot(x='species', y=\"body_mass_g\", data=penguins_cleaned)\n",
        "\n",
        "plt.title(\"Penguin Body Mass by Species\", fontsize=14)\n",
        "plt.xlabel(\"Species\", fontsize=12)\n",
        "plt.ylabel(\"Body Mass (g)\", fontsize=12)\n",
        "\n",
        "plt.show()"
      ],
      "metadata": {
        "id": "b7arlbJYwU35"
      },
      "execution_count": null,
      "outputs": []
    },
    {
      "cell_type": "markdown",
      "source": [
        "# Interpretation of the Boxplot:\n",
        "1. Which species has the largest median body mass?\n",
        "\n",
        " - Gentoo penguins have the largest median body mass.\n",
        "\n",
        "2. Which species has the widest range in body mass?\n",
        "\n",
        " - Gentoo penguins also have the widest range in body mass.\n",
        "\n",
        "3. Are there any outliers? If so, which species have them?\n",
        "\n",
        " - Yes, there are outliers in the dataset.\n",
        "\n",
        "    Adelie penguins have a few low body mass outliers.\n",
        "\n",
        "    Gentoo penguins have some high body mass outliers."
      ],
      "metadata": {
        "id": "SxCnIUPNwdYV"
      }
    },
    {
      "cell_type": "markdown",
      "source": [
        "Task 2: Violin Plot - Flipper Length Distribution by Species\n",
        "Create a violin plot to analyze the distribution of flipper length across species:"
      ],
      "metadata": {
        "id": "nUaripm8wf62"
      }
    },
    {
      "cell_type": "code",
      "source": [
        "sns.violinplot(x=\"species\", y=\"flipper_length_mm\", data=penguins_cleaned)\n",
        "\n",
        "plt.title(\"Flipper Length Distribution by Species\", fontsize=14)\n",
        "plt.xlabel(\"Species\", fontsize=12)\n",
        "plt.ylabel(\"Flipper Length (mm)\", fontsize=12)\n",
        "\n",
        "plt.show()"
      ],
      "metadata": {
        "id": "LE_rn94TwjCO"
      },
      "execution_count": null,
      "outputs": []
    },
    {
      "cell_type": "markdown",
      "source": [
        "# Interpretation: Answer the following:\n",
        "1. Which species has the most symmetrical distribution?\n",
        "\n",
        "  - Chinstrap penguins have the most symmetrical distribution.\n",
        "\n",
        " -  The left and right halves of the violin plot are nearly identical, indicating that flipper lengths are evenly distributed around the median.\n",
        "\n",
        "2. Which species has the widest spread of flipper lengths?\n",
        "\n",
        "  - Gentoo penguins have the widest spread of flipper lengths.\n",
        "\n",
        " - The violin shape is broader, showing a wider distribution of values.\n",
        "\n",
        "3. How do the quartiles (white lines in the plot) compare for each species?\n",
        "\n",
        "  - Adélie penguins are more uniform in size.\n",
        "\n",
        "  - Gentoo penguins have diverse flipper lengths.\n",
        "\n",
        "  - Chinstraps have a balanced distribution without extreme values."
      ],
      "metadata": {
        "id": "KN0hSzngS12Y"
      }
    },
    {
      "cell_type": "markdown",
      "source": [
        "**Task 3**: Ridgeline Plot - Distribution of Bill Length by Island\n",
        "Use a ridgeline plot to visualize the distribution of bill length across islands:"
      ],
      "metadata": {
        "id": "QDL0M3lww2lq"
      }
    },
    {
      "cell_type": "code",
      "source": [
        "plt.figure(figsize=(10, 6))\n",
        "joypy.joyplot(data=penguins_cleaned, by=\"island\", column=\"bill_length_mm\")\n",
        "\n",
        "plt.title(\"Ridgeline Plot of Bill Length by Island\", fontsize=14)\n",
        "plt.xlabel(\"Bill Length (mm)\", fontsize=12)\n",
        "\n",
        "plt.show()"
      ],
      "metadata": {
        "id": "4dngtByNw4nc"
      },
      "execution_count": null,
      "outputs": []
    },
    {
      "cell_type": "markdown",
      "source": [
        "#Interpretation: Answer the following:\n",
        "1. Which island has the smallest range of bill lengths?\n",
        "\n",
        "  Torgersen Island has the smallest range of bill lengths (low variability).\n",
        "2. Which island has the most uniform distribution?\n",
        "\n",
        "  Dream Island has the most uniform distribution (bill lengths are evenly spread out across a range).\n",
        "3. What differences do you notice between the islands in terms of bill length?\n",
        "\n",
        "  Biscoe Island has the longest bill lengths.\n",
        "\n",
        "  Torgersen Island has the shortest bill lengths.\n",
        "\n",
        "  Dream Island has an overlapping range.\n"
      ],
      "metadata": {
        "id": "9ANVWrZTxCfb"
      }
    },
    {
      "cell_type": "markdown",
      "source": [
        "upload your completed notebook (.ipynb) to Google Colab or GitHub.\n",
        "Submit the GitHub/Colab link in MS Teams under the assignment post."
      ],
      "metadata": {
        "id": "WclqVUSixJ1D"
      }
    }
  ]
}