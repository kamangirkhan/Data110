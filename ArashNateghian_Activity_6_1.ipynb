{
  "cells": [
    {
      "cell_type": "markdown",
      "metadata": {
        "id": "view-in-github",
        "colab_type": "text"
      },
      "source": [
        "<a href=\"https://colab.research.google.com/github/kamangirkhan/Data110/blob/main/ArashNateghian_Activity_6_1.ipynb\" target=\"_parent\"><img src=\"https://colab.research.google.com/assets/colab-badge.svg\" alt=\"Open In Colab\"/></a>"
      ]
    },
    {
      "cell_type": "code",
      "execution_count": null,
      "id": "c70a889d-821f-4d05-9a0f-f811db2cecf4",
      "metadata": {
        "id": "c70a889d-821f-4d05-9a0f-f811db2cecf4",
        "outputId": "b04ef7b6-477f-4bbf-d6ae-adb083c3243d"
      },
      "outputs": [
        {
          "name": "stdout",
          "output_type": "stream",
          "text": [
            "Loaded 99 records from 'fake-names.txt'.\n",
            "\n",
            "==== Fake Names Lookup ====\n",
            "1. Lookup by Name\n",
            "2. Lookup by Birthday\n",
            "3. Exit\n"
          ]
        },
        {
          "name": "stdin",
          "output_type": "stream",
          "text": [
            "Enter choice:  1\n",
            "Who's birthday do you want to look up?  john\n"
          ]
        },
        {
          "name": "stdout",
          "output_type": "stream",
          "text": [
            "No match found for 'john'.\n",
            "\n",
            "==== Fake Names Lookup ====\n",
            "1. Lookup by Name\n",
            "2. Lookup by Birthday\n",
            "3. Exit\n"
          ]
        },
        {
          "name": "stdin",
          "output_type": "stream",
          "text": [
            "Enter choice:  1\n",
            "Who's birthday do you want to look up?  ali\n"
          ]
        },
        {
          "name": "stdout",
          "output_type": "stream",
          "text": [
            "Panda Malibu's birthday: 2/17/1996\n",
            "\n",
            "==== Fake Names Lookup ====\n",
            "1. Lookup by Name\n",
            "2. Lookup by Birthday\n",
            "3. Exit\n"
          ]
        },
        {
          "name": "stdin",
          "output_type": "stream",
          "text": [
            "Enter choice:  1\n",
            "Who's birthday do you want to look up?  ben\n"
          ]
        },
        {
          "name": "stdout",
          "output_type": "stream",
          "text": [
            "Benji Dracula's birthday: 6/30/1999\n",
            "Callaway Bentley's birthday: 1/3/1996\n",
            "\n",
            "==== Fake Names Lookup ====\n",
            "1. Lookup by Name\n",
            "2. Lookup by Birthday\n",
            "3. Exit\n"
          ]
        },
        {
          "name": "stdin",
          "output_type": "stream",
          "text": [
            "Enter choice:  2\n",
            "What's the birthday (MM/DD/YYYY) do you want to look up?  05/01/1950\n"
          ]
        },
        {
          "name": "stdout",
          "output_type": "stream",
          "text": [
            "No one found with birthday 05/01/1950.\n",
            "\n",
            "==== Fake Names Lookup ====\n",
            "1. Lookup by Name\n",
            "2. Lookup by Birthday\n",
            "3. Exit\n"
          ]
        },
        {
          "name": "stdin",
          "output_type": "stream",
          "text": [
            "Enter choice:  1950\n"
          ]
        },
        {
          "name": "stdout",
          "output_type": "stream",
          "text": [
            "Invalid choice. Try again.\n",
            "\n",
            "==== Fake Names Lookup ====\n",
            "1. Lookup by Name\n",
            "2. Lookup by Birthday\n",
            "3. Exit\n"
          ]
        },
        {
          "name": "stdin",
          "output_type": "stream",
          "text": [
            "Enter choice:  2\n",
            "What's the birthday (MM/DD/YYYY) do you want to look up?  1950\n"
          ]
        },
        {
          "name": "stdout",
          "output_type": "stream",
          "text": [
            "No one found with birthday 1950.\n",
            "\n",
            "==== Fake Names Lookup ====\n",
            "1. Lookup by Name\n",
            "2. Lookup by Birthday\n",
            "3. Exit\n"
          ]
        },
        {
          "name": "stdin",
          "output_type": "stream",
          "text": [
            "Enter choice:  2\n",
            "What's the birthday (MM/DD/YYYY) do you want to look up?  1999\n"
          ]
        },
        {
          "name": "stdout",
          "output_type": "stream",
          "text": [
            "No one found with birthday 1999.\n",
            "\n",
            "==== Fake Names Lookup ====\n",
            "1. Lookup by Name\n",
            "2. Lookup by Birthday\n",
            "3. Exit\n"
          ]
        },
        {
          "name": "stdin",
          "output_type": "stream",
          "text": [
            "Enter choice:  6/30/1999\n"
          ]
        },
        {
          "name": "stdout",
          "output_type": "stream",
          "text": [
            "Invalid choice. Try again.\n",
            "\n",
            "==== Fake Names Lookup ====\n",
            "1. Lookup by Name\n",
            "2. Lookup by Birthday\n",
            "3. Exit\n"
          ]
        },
        {
          "name": "stdin",
          "output_type": "stream",
          "text": [
            "Enter choice:  01/03/1996\n"
          ]
        },
        {
          "name": "stdout",
          "output_type": "stream",
          "text": [
            "Invalid choice. Try again.\n",
            "\n",
            "==== Fake Names Lookup ====\n",
            "1. Lookup by Name\n",
            "2. Lookup by Birthday\n",
            "3. Exit\n"
          ]
        },
        {
          "name": "stdin",
          "output_type": "stream",
          "text": [
            "Enter choice:  2\n",
            "What's the birthday (MM/DD/YYYY) do you want to look up?  01/03/1996\n"
          ]
        },
        {
          "name": "stdout",
          "output_type": "stream",
          "text": [
            "No one found with birthday 01/03/1996.\n",
            "\n",
            "==== Fake Names Lookup ====\n",
            "1. Lookup by Name\n",
            "2. Lookup by Birthday\n",
            "3. Exit\n"
          ]
        },
        {
          "name": "stdin",
          "output_type": "stream",
          "text": [
            "Enter choice:  2\n",
            "What's the birthday (MM/DD/YYYY) do you want to look up?  12/23/1952\n"
          ]
        },
        {
          "name": "stdout",
          "output_type": "stream",
          "text": [
            "People born on 12/23/1952:\n",
            " - Sasha Waves\n",
            "\n",
            "==== Fake Names Lookup ====\n",
            "1. Lookup by Name\n",
            "2. Lookup by Birthday\n",
            "3. Exit\n"
          ]
        }
      ],
      "source": [
        "import re\n",
        "\n",
        "def load_people(filename):\n",
        "\n",
        "    people = {}\n",
        "    try:\n",
        "        with open(filename, \"r\") as file:\n",
        "            for line in file:\n",
        "                parts = line.strip().split(\",\")\n",
        "                if len(parts) == 2:\n",
        "                    name, birthday = parts\n",
        "                    people[name.strip()] = birthday.strip()\n",
        "        print(f\"Loaded {len(people)} records from '{filename}'.\\n\")\n",
        "    except FileNotFoundError:\n",
        "        print(f\"File not found: {filename}\")\n",
        "    return people\n",
        "\n",
        "\n",
        "def lookup_by_name(people):\n",
        "\n",
        "    query = input(\"Who's birthday do you want to look up? \").strip().lower()\n",
        "    matches = {name: bday for name, bday in people.items() if re.search(query, name.lower())}\n",
        "\n",
        "    if matches:\n",
        "        for name, bday in matches.items():\n",
        "            print(f\"{name}'s birthday: {bday}\")\n",
        "    else:\n",
        "        print(f\"No match found for '{query}'.\")\n",
        "    print()\n",
        "\n",
        "def lookup_by_birthday(people):\n",
        "\n",
        "    date = input(\"What's the birthday (MM/DD/YYYY) do you want to look up? \").strip()\n",
        "    matches = [name for name, bday in people.items() if bday == date]\n",
        "\n",
        "    if matches:\n",
        "        print(f\"People born on {date}:\")\n",
        "        for name in matches:\n",
        "            print(f\" - {name}\")\n",
        "    else:\n",
        "        print(f\"No one found with birthday {date}.\")\n",
        "    print()\n",
        "\n",
        "def main():\n",
        "    filename = \"fake-names.txt\"\n",
        "    people = load_people(filename)\n",
        "\n",
        "    if not people:\n",
        "        return\n",
        "\n",
        "    while True:\n",
        "        print(\"==== Fake Names Lookup ====\")\n",
        "        print(\"1. Lookup by Name\")\n",
        "        print(\"2. Lookup by Birthday\")\n",
        "        print(\"3. Exit\")\n",
        "        choice = input(\"Enter choice: \").strip()\n",
        "\n",
        "        if choice == \"1\":\n",
        "            lookup_by_name(people)\n",
        "        elif choice == \"2\":\n",
        "            lookup_by_birthday(people)\n",
        "        elif choice == \"3\":\n",
        "            print(\"Goodbye!\")\n",
        "            break\n",
        "        else:\n",
        "            print(\"Invalid choice. Try again.\\n\")\n",
        "\n",
        "if __name__ == \"__main__\":\n",
        "    main()\n"
      ]
    },
    {
      "cell_type": "code",
      "execution_count": null,
      "id": "21334ac3-62db-4961-9909-d77db2531259",
      "metadata": {
        "id": "21334ac3-62db-4961-9909-d77db2531259"
      },
      "outputs": [],
      "source": []
    }
  ],
  "metadata": {
    "kernelspec": {
      "display_name": "Python 3 (ipykernel)",
      "language": "python",
      "name": "python3"
    },
    "language_info": {
      "codemirror_mode": {
        "name": "ipython",
        "version": 3
      },
      "file_extension": ".py",
      "mimetype": "text/x-python",
      "name": "python",
      "nbconvert_exporter": "python",
      "pygments_lexer": "ipython3",
      "version": "3.13.5"
    },
    "colab": {
      "provenance": [],
      "include_colab_link": true
    }
  },
  "nbformat": 4,
  "nbformat_minor": 5
}