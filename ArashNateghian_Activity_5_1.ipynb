{
  "nbformat": 4,
  "nbformat_minor": 0,
  "metadata": {
    "colab": {
      "provenance": [],
      "include_colab_link": true
    },
    "kernelspec": {
      "name": "python3",
      "display_name": "Python 3"
    },
    "language_info": {
      "name": "python"
    }
  },
  "cells": [
    {
      "cell_type": "markdown",
      "metadata": {
        "id": "view-in-github",
        "colab_type": "text"
      },
      "source": [
        "<a href=\"https://colab.research.google.com/github/kamangirkhan/Data110/blob/main/ArashNateghian_Activity_5_1.ipynb\" target=\"_parent\"><img src=\"https://colab.research.google.com/assets/colab-badge.svg\" alt=\"Open In Colab\"/></a>"
      ]
    },
    {
      "cell_type": "markdown",
      "source": [],
      "metadata": {
        "id": "k3Xc6NhpWrwi"
      }
    },
    {
      "cell_type": "code",
      "source": [
        "import pandas as pd\n",
        "\n",
        "data = pd.read_csv(\"State_Data.csv\")\n",
        "\n",
        "def activity(data):\n",
        "\n",
        "    state_input = input(\"ENTER A STATE, or NO to skip: \").strip().upper() # ENTER A STATE, or NO to skip\n",
        "\n",
        "    regions = {row['Region'].upper() for _, row in data.iterrows()}     # Gather all unique regions from the data\n",
        "    print(\"\\nAvailable regions:\")\n",
        "    print(\", \".join(regions))\n",
        "    region_input = input(\"ENTER A REGION, or NO to skip: \").strip().upper() # ENTER A REGION, or NO to skip\n",
        "\n",
        "    print(f\"\\n{'STATE':<16}{'REGION':<19}{'GDP (BILLIONS)':<22}{'PERSONAL INCOME (BILLIONS)':<32}\")\n",
        "    print(\"-\" * 70)\n",
        "\n",
        "    for _, row in data.iterrows():\n",
        "        state = row['State'].upper()\n",
        "        region = row['Region'].upper()\n",
        "        gdp = row['GDP (billions)']\n",
        "        income = row['Personal Income (billions)']\n",
        "\n",
        "\n",
        "        if (state_input == 'NO' or state == state_input) or (region_input == 'NO' or region == region_input):\n",
        "            print(f\"{state:<16}{region:<19}{gdp:<22}{income:<32}\")\n",
        "\n",
        "def mp():\n",
        "    filename = \"State_Data.csv\"\n",
        "    data = pd.read_csv(filename)\n",
        "    activity(data)\n",
        "\n",
        "mp()\n"
      ],
      "metadata": {
        "colab": {
          "base_uri": "https://localhost:8080/"
        },
        "id": "h-Iizs7Wc8h1",
        "outputId": "d8874380-abdf-4d1f-8a4c-4848cef9c4b4"
      },
      "execution_count": 9,
      "outputs": [
        {
          "output_type": "stream",
          "name": "stdout",
          "text": [
            "ENTER A STATE, or NO to skip: maryland\n",
            "\n",
            "Available regions:\n",
            "ROCKY_MOUNTAIN, PLAINS, MIDEAST, GREAT_LAKES, FAR_WEST, SOUTHEAST, SOUTHWEST, NEW_ENGLAND\n",
            "ENTER A REGION, or NO to skip: no\n",
            "\n",
            "STATE           REGION             GDP (BILLIONS)        PERSONAL INCOME (BILLIONS)      \n",
            "----------------------------------------------------------------------\n",
            "ALABAMA         SOUTHEAST          153.84                162.2283                        \n",
            "ALASKA          FAR_WEST           43.47                 32.6496                         \n",
            "ARIZONA         SOUTHWEST          221.02                217.7587                        \n",
            "ARKANSAS        SOUTHEAST          92.08                 93.6831                         \n",
            "CALIFORNIA      FAR_WEST           1672.5                1579.1                          \n",
            "COLORADO        ROCKY_MOUNTAIN     230.98                210.6077                        \n",
            "CONNECTICUT     NEW_ENGLAND        197.61                197.8393                        \n",
            "DELAWARE        MIDEAST            55.5                  36.9576                         \n",
            "D.O.C           MIDEAST            89.97                 42.2093                         \n",
            "FLORIDA         SOUTHEAST          650.29                725.4363                        \n",
            "GEORGIA         SOUTHEAST          358.84                333.6327                        \n",
            "HAWAII          FAR_WEST           59.67                 56.8272                         \n",
            "IDAHO           ROCKY_MOUNTAIN     50.73                 50.3852                         \n",
            "ILLINOIS        GREAT_LAKES        571.23                540.2233                        \n",
            "INDIANA         GREAT_LAKES        241.93                223.1581                        \n",
            "IOWA            PLAINS             124.01                119.0797                        \n",
            "KANSAS          PLAINS             113.32                110.8847                        \n",
            "KENTUCKY        SOUTHEAST          141.98                143.211                         \n",
            "LOUISIANA       SOUTHEAST          200.94                169.1167                        \n",
            "MAINE           NEW_ENGLAND        45.56                 49.3602                         \n",
            "MARYLAND        MIDEAST            264.32                289.6531                        \n",
            "MASSACHUSETTS   NEW_ENGLAND        340.16                337.9316                        \n",
            "MICHIGAN        GREAT_LAKES        329.81                346.8182                        \n",
            "MINNESOTA       PLAINS             240.42                226.3199                        \n",
            "MISSISSIPPI     SOUTHEAST          85.36                 91.5883                         \n",
            "MISSOURI        PLAINS             216.68                219.484                         \n",
            "MONTANA         ROCKY_MOUNTAIN     31.92                 34.2688                         \n",
            "NEBRASKA        PLAINS             80.64                 73.0691                         \n",
            "NEVADA          FAR_WEST           109.61                99.2062                         \n",
            "NEW_HAMPSHIRE   NEW_ENGLAND        55.24                 59.1947                         \n",
            "NEW_MEXICO      SOUTHWEST          70.79                 68.4891                         \n",
            "NEW_JERSEY      MIDEAST            431.41                449.0599                        \n",
            "NEW_YORK        MIDEAST            1013.3                960.8265                        \n",
            "NORTH_CAROLINA  SOUTHEAST          380.69                338.9875                        \n",
            "NORTH_DAKOTA    PLAINS             31.62                 29.1538                         \n",
            "OHIO            GREAT_LAKES        413.99                418.5351                        \n",
            "OKLAHOMA        SOUTHWEST          132.92                135.0626                        \n",
            "OREGON          FAR_WEST           174.17                137.6717                        \n",
            "PENNSYLVANIA    MIDEAST            493.53                529.8078                        \n",
            "RHODE_ISLAND    NEW_ENGLAND        43.153                45.2676                         \n",
            "SOUTH_CAROLINA  SOUTHEAST          143.41                151.5368                        \n",
            "SOUTH_DAKOTA    PLAINS             34.37                 33.1357                         \n",
            "TENNESSEE       SOUTHEAST          227.36                225.2247                        \n",
            "TEXAS           SOUTHWEST          1116.27               961.8281                        \n",
            "UTAH            ROCKY_MOUNTAIN     105.2                 90.1127                         \n",
            "VERMONT         NEW_ENGLAND        23.34                 25.1157                         \n",
            "VIRGINIA        SOUTHEAST          377.47                359.9561                        \n",
            "WASHINGTON      FAR_WEST           307.69                286.7438                        \n",
            "WEST_VIRGINIA   SOUTHEAST          53.58                 58.9501                         \n",
            "WISCONSIN       GREAT_LAKES        219.08                220.5023                        \n",
            "WYOMING         ROCKY_MOUNTAIN     32.0                  25.4336                         \n"
          ]
        }
      ]
    }
  ]
}