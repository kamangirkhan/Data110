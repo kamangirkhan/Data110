{
  "cells": [
    {
      "cell_type": "markdown",
      "metadata": {
        "id": "view-in-github",
        "colab_type": "text"
      },
      "source": [
        "<a href=\"https://colab.research.google.com/github/kamangirkhan/Data110/blob/main/ArashNateghian_Activity_7_1.ipynb\" target=\"_parent\"><img src=\"https://colab.research.google.com/assets/colab-badge.svg\" alt=\"Open In Colab\"/></a>"
      ]
    },
    {
      "cell_type": "markdown",
      "id": "e99ac1f1-a9f7-456e-871f-5200084c9b85",
      "metadata": {
        "id": "e99ac1f1-a9f7-456e-871f-5200084c9b85"
      },
      "source": [
        "Arash Nateghian"
      ]
    },
    {
      "cell_type": "code",
      "execution_count": null,
      "id": "03ad137f-2d68-414b-b961-78dd19b3ab6a",
      "metadata": {
        "id": "03ad137f-2d68-414b-b961-78dd19b3ab6a",
        "outputId": "07206941-c2a2-48f2-de65-af1d8fbfef30"
      },
      "outputs": [
        {
          "name": "stdout",
          "output_type": "stream",
          "text": [
            "Portfolio:\n",
            "('6/10/2014', 28.13, 52, 'MTNB', 0.79)\n",
            "('4/18/2013', 52.43, 10, 'BERY', 38.38)\n",
            "('4/23/2013', 73.53, 53, 'SIRI', 106.7)\n",
            "('2/21/2012', 32.67, 20, 'BMA', 13.46)\n",
            "('2/1/2005', 78.83, 75, 'ADT', 99.91)\n",
            "('9/8/2012', 29.12, 7, 'ZNGA', 80.81)\n",
            "('3/29/2008', 86.51, 21, 'BOOM', 40.5)\n",
            "('9/20/2016', 22.19, 21, 'CNTY', 103.1)\n",
            "('1/25/2018', 44.21, 86, 'NOK', 84.11)\n",
            "('5/16/2011', 62.66, 95, 'NMR', 35.98)\n",
            "\n",
            "Total portfolio cost: $ 24691.1\n",
            "Total GM stock cost: $ 0\n"
          ]
        }
      ],
      "source": [
        "import csv\n",
        "\n",
        "def clean_price(value):\n",
        "        return float(value.replace(\"$\", \"\").strip())\n",
        "\n",
        "def load_portfolio(filename):\n",
        "    portfolio = []\n",
        "    with open(filename, newline='', encoding='utf-8') as file:\n",
        "        reader = csv.DictReader(file)\n",
        "        for row in reader:\n",
        "            date = row[\"Purchase Date\"].strip()\n",
        "            purchase = clean_price(row[\"Purchase Price\"])\n",
        "            shares = int(row[\"Shares\"])\n",
        "            symbol = row[\"Symbol\"].strip()\n",
        "            current = clean_price(row[\"Current Price\"])\n",
        "            portfolio.append((date, purchase, shares, symbol, current))\n",
        "    return portfolio\n",
        "\n",
        "def total_cost(portfolio):\n",
        "    return sum(purchase * shares for _, purchase, shares, _, _ in portfolio)\n",
        "\n",
        "def stock_cost(portfolio, ticker):\n",
        "    for _, purchase, shares, symbol, _ in portfolio:\n",
        "        if symbol.upper() == ticker.upper():\n",
        "            return purchase * shares\n",
        "    return 0\n",
        "\n",
        "# --- Main ---\n",
        "portfolio = load_portfolio(\"Stocks.csv\")\n",
        "\n",
        "print(\"Portfolio:\")\n",
        "for stock in portfolio:\n",
        "    print(stock)\n",
        "\n",
        "print(\"\\nTotal portfolio cost: $\", round(total_cost(portfolio), 2))\n",
        "print(\"Total GM stock cost: $\", round(stock_cost(portfolio, \"GM\"), 2))\n"
      ]
    }
  ],
  "metadata": {
    "kernelspec": {
      "display_name": "Python 3 (ipykernel)",
      "language": "python",
      "name": "python3"
    },
    "language_info": {
      "codemirror_mode": {
        "name": "ipython",
        "version": 3
      },
      "file_extension": ".py",
      "mimetype": "text/x-python",
      "name": "python",
      "nbconvert_exporter": "python",
      "pygments_lexer": "ipython3",
      "version": "3.13.5"
    },
    "colab": {
      "provenance": [],
      "include_colab_link": true
    }
  },
  "nbformat": 4,
  "nbformat_minor": 5
}