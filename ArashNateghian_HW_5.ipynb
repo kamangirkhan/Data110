{
  "nbformat": 4,
  "nbformat_minor": 0,
  "metadata": {
    "colab": {
      "provenance": [],
      "authorship_tag": "ABX9TyMycaK0XQPDhXWhFEEEuL8g",
      "include_colab_link": true
    },
    "kernelspec": {
      "name": "python3",
      "display_name": "Python 3"
    },
    "language_info": {
      "name": "python"
    }
  },
  "cells": [
    {
      "cell_type": "markdown",
      "metadata": {
        "id": "view-in-github",
        "colab_type": "text"
      },
      "source": [
        "<a href=\"https://colab.research.google.com/github/kamangirkhan/Data110/blob/main/ArashNateghian_HW_5.ipynb\" target=\"_parent\"><img src=\"https://colab.research.google.com/assets/colab-badge.svg\" alt=\"Open In Colab\"/></a>"
      ]
    },
    {
      "cell_type": "markdown",
      "source": [
        "1.\tImplement a function that will:\n",
        "\n",
        "  o\tAsk user for four first names\n",
        "\n",
        "  o\tAsk for four last names\n",
        "  \n",
        "  o\tGenerate a new list of names (first + name)\n"
      ],
      "metadata": {
        "id": "d6nOx8_TTBl3"
      }
    },
    {
      "cell_type": "code",
      "execution_count": 13,
      "metadata": {
        "colab": {
          "base_uri": "https://localhost:8080/"
        },
        "id": "_D0yhAdmAYGk",
        "outputId": "a4804113-4421-481a-d80d-24e83afe3aff"
      },
      "outputs": [
        {
          "output_type": "stream",
          "name": "stdout",
          "text": [
            "Enter four first names separated by commas: arash, emitis, azadeh, ashkan\n",
            "Enter four last names separated by commas: nategh, zia, nateghi, delavar\n",
            "First names: ['arash', ' emitis', ' azadeh', ' ashkan']\n",
            "Last names: ['nategh', ' zia', ' nateghi', ' delavar']\n",
            "Generated: ['arash nategh', ' emitis  zia', ' azadeh  nateghi', ' ashkan  delavar']\n"
          ]
        }
      ],
      "source": [
        "#Input\n",
        "fname = input(\"Enter four first names separated by commas: \").split(\",\")\n",
        "lname = input(\"Enter four last names separated by commas: \").split(\",\")\n",
        "\n",
        "generated =[]\n",
        "for i in range(len(fname)):\n",
        "  generated.append(f\"{fname[i]} {lname[i]}\")\n",
        "print(f\"First names: {fname}\")\n",
        "print(f\"Last names: {lname}\")\n",
        "print(f\"Generated: {generated}\")"
      ]
    },
    {
      "cell_type": "markdown",
      "source": [
        "2.\tWrite code to:\n",
        "\n",
        "  o\tRandomly generate a list of 25 unique numbers where each value is between 100 and 200 (inclusively)\n",
        "\n",
        "  o\tSave the list, in descending order, to a ﬁle named numbers.txt, one number per line\n"
      ],
      "metadata": {
        "id": "lu_zWAlxTRqW"
      }
    },
    {
      "cell_type": "code",
      "source": [
        "import random\n",
        "\n",
        "numbers = random.sample(range(100, 201), 25) # Generate 25 unique random numbers between 100 and 200 (inclusive)\n",
        "\n",
        "with open(\"numbers.txt\", \"w\") as file: # Write each number to a file (one per line)\n",
        "    for num in numbers:\n",
        "        file.write(str(num) + \"\\n\")\n",
        "\n",
        "print(\"25 unique numbers saved to numbers.txt\")"
      ],
      "metadata": {
        "colab": {
          "base_uri": "https://localhost:8080/"
        },
        "id": "vNQFcw5oSfOn",
        "outputId": "75ea4556-abbb-4349-db84-fd3a9ef0f3b8"
      },
      "execution_count": 2,
      "outputs": [
        {
          "output_type": "stream",
          "name": "stdout",
          "text": [
            "25 unique numbers saved to numbers.txt\n"
          ]
        }
      ]
    }
  ]
}