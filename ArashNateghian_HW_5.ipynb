{
  "nbformat": 4,
  "nbformat_minor": 0,
  "metadata": {
    "colab": {
      "provenance": [],
      "authorship_tag": "ABX9TyNVIFy6cVekLS7820yPTTXR",
      "include_colab_link": true
    },
    "kernelspec": {
      "name": "python3",
      "display_name": "Python 3"
    },
    "language_info": {
      "name": "python"
    }
  },
  "cells": [
    {
      "cell_type": "markdown",
      "metadata": {
        "id": "view-in-github",
        "colab_type": "text"
      },
      "source": [
        "<a href=\"https://colab.research.google.com/github/kamangirkhan/Data110/blob/main/ArashNateghian_HW_5.ipynb\" target=\"_parent\"><img src=\"https://colab.research.google.com/assets/colab-badge.svg\" alt=\"Open In Colab\"/></a>"
      ]
    },
    {
      "cell_type": "code",
      "execution_count": 13,
      "metadata": {
        "colab": {
          "base_uri": "https://localhost:8080/"
        },
        "id": "_D0yhAdmAYGk",
        "outputId": "a4804113-4421-481a-d80d-24e83afe3aff"
      },
      "outputs": [
        {
          "output_type": "stream",
          "name": "stdout",
          "text": [
            "Enter four first names separated by commas: arash, emitis, azadeh, ashkan\n",
            "Enter four last names separated by commas: nategh, zia, nateghi, delavar\n",
            "First names: ['arash', ' emitis', ' azadeh', ' ashkan']\n",
            "Last names: ['nategh', ' zia', ' nateghi', ' delavar']\n",
            "Generated: ['arash nategh', ' emitis  zia', ' azadeh  nateghi', ' ashkan  delavar']\n"
          ]
        }
      ],
      "source": [
        "#Input\n",
        "fname = input(\"Enter four first names separated by commas: \").split(\",\")\n",
        "lname = input(\"Enter four last names separated by commas: \").split(\",\")\n",
        "\n",
        "generated =[]\n",
        "for i in range(len(fname)):\n",
        "  generated.append(f\"{fname[i]} {lname[i]}\")\n",
        "print(f\"First names: {fname}\")\n",
        "print(f\"Last names: {lname}\")\n",
        "print(f\"Generated: {generated}\")"
      ]
    }
  ]
}