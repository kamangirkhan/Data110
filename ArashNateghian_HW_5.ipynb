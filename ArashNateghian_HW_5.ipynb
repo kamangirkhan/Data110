{
  "nbformat": 4,
  "nbformat_minor": 0,
  "metadata": {
    "colab": {
      "provenance": [],
      "authorship_tag": "ABX9TyMLD7P2SSLlTu6DaVBz2lx1",
      "include_colab_link": true
    },
    "kernelspec": {
      "name": "python3",
      "display_name": "Python 3"
    },
    "language_info": {
      "name": "python"
    }
  },
  "cells": [
    {
      "cell_type": "markdown",
      "metadata": {
        "id": "view-in-github",
        "colab_type": "text"
      },
      "source": [
        "<a href=\"https://colab.research.google.com/github/kamangirkhan/Data110/blob/main/ArashNateghian_HW_5.ipynb\" target=\"_parent\"><img src=\"https://colab.research.google.com/assets/colab-badge.svg\" alt=\"Open In Colab\"/></a>"
      ]
    },
    {
      "cell_type": "markdown",
      "source": [
        "1.\tImplement a function that will:\n",
        "\n",
        "  o\tAsk user for four first names\n",
        "\n",
        "  o\tAsk for four last names\n",
        "  \n",
        "  o\tGenerate a new list of names (first + name)\n"
      ],
      "metadata": {
        "id": "d6nOx8_TTBl3"
      }
    },
    {
      "cell_type": "code",
      "execution_count": 13,
      "metadata": {
        "colab": {
          "base_uri": "https://localhost:8080/"
        },
        "id": "_D0yhAdmAYGk",
        "outputId": "a4804113-4421-481a-d80d-24e83afe3aff"
      },
      "outputs": [
        {
          "output_type": "stream",
          "name": "stdout",
          "text": [
            "Enter four first names separated by commas: arash, emitis, azadeh, ashkan\n",
            "Enter four last names separated by commas: nategh, zia, nateghi, delavar\n",
            "First names: ['arash', ' emitis', ' azadeh', ' ashkan']\n",
            "Last names: ['nategh', ' zia', ' nateghi', ' delavar']\n",
            "Generated: ['arash nategh', ' emitis  zia', ' azadeh  nateghi', ' ashkan  delavar']\n"
          ]
        }
      ],
      "source": [
        "#Input\n",
        "fname = input(\"Enter four first names separated by commas: \").split(\",\")\n",
        "lname = input(\"Enter four last names separated by commas: \").split(\",\")\n",
        "\n",
        "generated =[]\n",
        "for i in range(len(fname)):\n",
        "  generated.append(f\"{fname[i]} {lname[i]}\")\n",
        "print(f\"First names: {fname}\")\n",
        "print(f\"Last names: {lname}\")\n",
        "print(f\"Generated: {generated}\")"
      ]
    },
    {
      "cell_type": "markdown",
      "source": [
        "This program takes two user inputs. One for four first names and another for four last names, each separated by commas. It then splits the inputs into two lists using the `split()` function, so each name becomes a separate element in the list. Next, it loops through both lists, combining each corresponding first and last name into a single full name using an f-string. These combined names are stored in a new list called `generated`. Finally, the program prints the lists of first names, last names, and the generated full names."
      ],
      "metadata": {
        "id": "ifFaJwKGUop7"
      }
    },
    {
      "cell_type": "markdown",
      "source": [
        "2.\tWrite code to:\n",
        "\n",
        "  o\tRandomly generate a list of 25 unique numbers where each value is between 100 and 200 (inclusively)\n",
        "\n",
        "  o\tSave the list, in descending order, to a ﬁle named numbers.txt, one number per line\n"
      ],
      "metadata": {
        "id": "lu_zWAlxTRqW"
      }
    },
    {
      "cell_type": "code",
      "source": [
        "import random\n",
        "\n",
        "numbers = random.sample(range(100, 201), 25) # Generate 25 unique random numbers between 100 and 200 (inclusive)\n",
        "\n",
        "with open(\"numbers.txt\", \"w\") as file: # Write each number to a file (one per line)\n",
        "    for num in numbers:\n",
        "        file.write(str(num) + \"\\n\")\n",
        "\n",
        "print(\"25 unique numbers saved to numbers.txt\")"
      ],
      "metadata": {
        "colab": {
          "base_uri": "https://localhost:8080/"
        },
        "id": "vNQFcw5oSfOn",
        "outputId": "75ea4556-abbb-4349-db84-fd3a9ef0f3b8"
      },
      "execution_count": 2,
      "outputs": [
        {
          "output_type": "stream",
          "name": "stdout",
          "text": [
            "25 unique numbers saved to numbers.txt\n"
          ]
        }
      ]
    },
    {
      "cell_type": "markdown",
      "source": [
        "This program generates 25 unique random numbers between 100 and 200 using the `random.sample()` function. It then opens (or creates) a text file named **numbers.txt** in write mode and writes each number to the file on a separate line. Finally, it prints a confirmation message indicating that the numbers have been successfully saved.\n"
      ],
      "metadata": {
        "id": "5xnk2MAhU8im"
      }
    },
    {
      "cell_type": "markdown",
      "source": [
        "**What did you learn?**\n",
        "\n",
        "During this activity, I learned how to use Python to work with lists, loops, random number generation, and file handling. I practiced splitting user input into lists, combining elements using loops, and writing output to a file. I also gained a better understanding of how functions like split(), random.sample(), and file operations using the with open() statement work together to make programs more efficient and organized. These exercises helped me see how even simple coding structures can be combined to perform meaningful tasks such as generating random data and saving results automatically.\n",
        "\n",
        "**What challenges did you encounter, if any?**\n",
        "\n",
        "One of the challenges I encountered was managing user input properly—especially removing extra spaces after commas and making sure the program handled names correctly. At first, I also struggled with ensuring that the random numbers were unique and written correctly to the file, but learning about random.sample() solved that problem since it automatically avoids duplicates. I also had to pay attention to indentation and syntax, which are critical in Python.\n",
        "\n",
        "**Anything else you would like to mention?**\n",
        "\n",
        "An enhancement I made was improving the code readability and reliability. For example, I used .strip() to clean up spaces in user inputs and f-strings to format text more clearly. In the random number program, I added sorting in descending order and wrote each number on a new line for better file organization. These small enhancements made the code cleaner, more accurate, and easier to understand.\n",
        "\n",
        "**What enhancement(s) did you make?**\n",
        "\n",
        "Overall, this exercise strengthened my confidence in writing Python programs that take user input, process data logically, and store results efficiently. It also reminded me of the importance of debugging, testing, and continuously improving code to make it more user-friendly and reliable."
      ],
      "metadata": {
        "id": "DfTt0CfGVAQ3"
      }
    }
  ]
}