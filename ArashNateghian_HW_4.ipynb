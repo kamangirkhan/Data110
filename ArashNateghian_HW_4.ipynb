{
  "nbformat": 4,
  "nbformat_minor": 0,
  "metadata": {
    "colab": {
      "provenance": [],
      "authorship_tag": "ABX9TyPN8L+xLioWMrdp7frJJEC+",
      "include_colab_link": true
    },
    "kernelspec": {
      "name": "python3",
      "display_name": "Python 3"
    },
    "language_info": {
      "name": "python"
    }
  },
  "cells": [
    {
      "cell_type": "markdown",
      "metadata": {
        "id": "view-in-github",
        "colab_type": "text"
      },
      "source": [
        "<a href=\"https://colab.research.google.com/github/kamangirkhan/Data110/blob/main/ArashNateghian_HW_4.ipynb\" target=\"_parent\"><img src=\"https://colab.research.google.com/assets/colab-badge.svg\" alt=\"Open In Colab\"/></a>"
      ]
    },
    {
      "cell_type": "markdown",
      "source": [
        "**# Arash Nateghian**"
      ],
      "metadata": {
        "id": "2ficYeKxQB5O"
      }
    },
    {
      "cell_type": "markdown",
      "source": [
        "1.\tWrite logic to:\n",
        "\n",
        "o\tProcess the provided stocks.csv file (attachment)\n",
        "\n",
        "o\tImplement a function to determine the total purchase price (of the portfolio)\n",
        "\n",
        "o\tImplement another function to determine the profit margin of the portfolio (current price minus purchase price of all stocks)\n"
      ],
      "metadata": {
        "id": "-zmQ-Fv-9cG0"
      }
    },
    {
      "cell_type": "code",
      "execution_count": 15,
      "metadata": {
        "colab": {
          "base_uri": "https://localhost:8080/",
          "height": 0
        },
        "id": "300gabXa9VHS",
        "outputId": "dab3b76c-9839-4586-8e9a-6a8ffffed4dc"
      },
      "outputs": [
        {
          "output_type": "stream",
          "name": "stdout",
          "text": [
            "Total Purchase Price: 24691.1\n",
            "Profit Margin: 3384.16\n"
          ]
        }
      ],
      "source": [
        "def total_purchase_price(filename):\n",
        "    total = 0.0\n",
        "    try:\n",
        "        fhand = open(filename) # Open the file\n",
        "    except:\n",
        "        print(f'File cannot be opened: {filename}')\n",
        "        return 0\n",
        "\n",
        "    header = True\n",
        "    for line in fhand:\n",
        "        if header:        # skip the header row\n",
        "            header = False\n",
        "            continue\n",
        "        line = line.strip() # Clean and split each line\n",
        "        if not line:\n",
        "            continue\n",
        "        parts = line.split(\",\") # Extract relevant columns\n",
        "        purchase_price = float(parts[1].strip().replace('$',''))\n",
        "        shares = int(parts[2].strip())\n",
        "        total += shares * purchase_price # Accumulate purchase value\n",
        "\n",
        "    fhand.close()\n",
        "    return total\n",
        "#-----------------------------------------\n",
        "\n",
        "def profit_margin(filename):\n",
        "    total_purchase = 0.0\n",
        "    total_current = 0.0\n",
        "    try:\n",
        "        fhand = open(filename) # Open the file\n",
        "    except:\n",
        "        print(f'File cannot be opened: {filename}')\n",
        "        return 0\n",
        "\n",
        "    header = True\n",
        "    for line in fhand:\n",
        "        if header:        # skip the header row\n",
        "            header = False\n",
        "            continue\n",
        "        line = line.strip() # Clean and split each line\n",
        "        if not line:\n",
        "            continue\n",
        "        parts = line.split(\",\") # Extract relevant columns\n",
        "        purchase_price = float(parts[1].strip().replace('$',''))\n",
        "        shares = int(parts[2].strip())\n",
        "        current_price = float(parts[4].strip().replace('$',''))\n",
        "        total_purchase += shares * purchase_price # Accumulate purchase value\n",
        "        total_current += shares * current_price # Accumulate current value\n",
        "\n",
        "    fhand.close()\n",
        "    return total_current - total_purchase\n",
        "\n",
        "filename = \"Stocks.csv\"\n",
        "print(\"Total Purchase Price:\", total_purchase_price(filename))\n",
        "print(\"Profit Margin:\", profit_margin(filename))"
      ]
    },
    {
      "cell_type": "markdown",
      "source": [
        "Function total_purchase_price(filename), reads a stock portfolio from a CSV file and calculates the total purchase cost of all stocks. It opens the file safely, skips the header row, and processes each line by splitting the values into columns. From each row, it extracts the purchase price (removing the dollar sign and converting it to a float) and the number of shares (converted to an integer). It then multiplies the purchase price by the number of shares to get the cost for that stock and accumulates the result into a running total. After processing all rows, it closes the file and returns the total amount spent to purchase the portfolio."
      ],
      "metadata": {
        "id": "HIhRQtxNDnOJ"
      }
    },
    {
      "cell_type": "markdown",
      "source": [
        "Function profit_margin(filename) reads a CSV file of stock data and calculates the overall profit (or loss) for the portfolio by comparing current stock values to their original purchase cost. It begins by initializing two totals: one for purchase cost and one for current value. The function safely attempts to open the file, returning 0 if the file can’t be opened. It skips the header row and processes each remaining line by stripping whitespace, splitting the values into columns, and extracting the purchase price, number of shares, and current price. After cleaning and converting these values into numbers, it multiplies shares by purchase price to accumulate the total purchase cost, and shares by current price to accumulate the current portfolio value. Once all rows are processed, the file is closed, and the function returns the difference between the current total and the purchase total, representing the profit margin of the portfolio."
      ],
      "metadata": {
        "id": "IcBXjmYgMKG3"
      }
    },
    {
      "cell_type": "markdown",
      "source": [
        "2.\tImplement a function, foo, which will determine the number of occurrences of a substring in a string\n",
        "\n",
        "o\tfoo(str, “Emma”) where\n",
        "\n",
        "*  foo is the function name\n",
        "*  str is the provided string # input parameter #1\n",
        "*  “Emma” is the substring # input parameter #2\n"
      ],
      "metadata": {
        "id": "NNsLryTh984L"
      }
    },
    {
      "cell_type": "code",
      "source": [
        "# Function to count occurrences of a substring in a string\n",
        "def foo(text, substring):\n",
        "    count = text.count(substring)\n",
        "    return count\n",
        "\n",
        "s = \"Emma is good developer. Emma also writes clean code. Emma loves Python.\"\n",
        "print(\"'Emma' appeared\", foo(s, \"Emma\"), \"times\")   # should print 3"
      ],
      "metadata": {
        "colab": {
          "base_uri": "https://localhost:8080/",
          "height": 0
        },
        "id": "D6CrNqD7-hgh",
        "outputId": "9dfd4e0b-df9c-4edd-88f8-42c554031c60"
      },
      "execution_count": 12,
      "outputs": [
        {
          "output_type": "stream",
          "name": "stdout",
          "text": [
            "'Emma' appeared 3 times\n"
          ]
        }
      ]
    },
    {
      "cell_type": "markdown",
      "source": [
        "In function foo(text, substring) I used count() to determine how many times a substring appears in a given string."
      ],
      "metadata": {
        "id": "x7xfq1zsNNKF"
      }
    },
    {
      "cell_type": "markdown",
      "source": [
        "o\tEnhance the function or create another function of your choice utilizing any of the concepts that we have learned thus far.\n",
        "You are here to practice coding"
      ],
      "metadata": {
        "id": "EuG6gKbZ-pA9"
      }
    },
    {
      "cell_type": "code",
      "source": [
        "def foo_enhanced(text, substring):\n",
        "    count = text.count(substring)\n",
        "\n",
        "    # Find all positions (indexes) where substring occurs\n",
        "    positions = []\n",
        "    start = 0\n",
        "    while True:\n",
        "        idx = text.find(substring, start)\n",
        "        if idx == -1:\n",
        "            break\n",
        "        positions.append(idx)\n",
        "        start = idx + len(substring)\n",
        "\n",
        "    return count, positions\n",
        "\n",
        "s = \"Emma is a developer. Emma writes code. Emma loves Python.\"\n",
        "count, positions = foo_enhanced(s, \"Emma\")\n",
        "print(\"'Emma' appeared\", count, \"times\")\n",
        "print(\"Positions:\", positions)\n"
      ],
      "metadata": {
        "colab": {
          "base_uri": "https://localhost:8080/",
          "height": 0
        },
        "id": "PULHLkYr-0Ic",
        "outputId": "2a68cffe-602d-4d04-98c0-877428693d78"
      },
      "execution_count": 13,
      "outputs": [
        {
          "output_type": "stream",
          "name": "stdout",
          "text": [
            "'Emma' appeared 3 times\n",
            "Positions: [0, 21, 39]\n"
          ]
        }
      ]
    },
    {
      "cell_type": "markdown",
      "source": [
        "The function foo_enhanced(text, substring) determines both the number of times a given substring appears in a string and the exact positions where each occurrence starts. I first used the built-in .count() method to calculate the total matches, then employs a loop with .find() to search for each occurrence from a moving starting index, storing the positions in a list until no more matches are found. Finally, it returns a tuple containing the count and the list of positions, allowing the user to see not only how many times the substring appears but also where in the text those matches occur."
      ],
      "metadata": {
        "id": "PFjQvloYOHRS"
      }
    },
    {
      "cell_type": "markdown",
      "source": [
        "**What did I learn?**\n",
        "I learned how to process CSV files in Python using basic file-handling techniques, including opening files safely, skipping headers, splitting lines into columns, cleaning string data, and converting values into numbers for calculations. I also practiced writing functions that calculate totals (such as purchase price) and compute differences (profit margin), as well as string manipulation with substring counts.\n",
        "\n",
        "**What challenges did I encounter, if any?**\n",
        "One challenge I faced was correctly identifying the positions of the required columns in the CSV file and handling special characters like dollar signs in numeric data. I also ran into a common mistake of placing a return statement too early, which caused later code not to execute. Debugging these issues helped me better understand Python’s flow of execution and data cleaning.\n",
        "\n",
        "**Anything else I would like to mention?**\n",
        "I found it helpful to use small examples and test strings to confirm my functions worked as expected before applying them to full datasets. This incremental approach made debugging easier.\n",
        "\n",
        "**If it’s specified, what enhancement(s) did I make?**\n",
        "For enhancement, I extended my string-counting function to not only return the total number of substring matches but also the positions of each occurrence, which provides more detailed insights into the text. Similarly, I improved the stock portfolio functions by making them more robust against bad input and ensuring they skip headers and handle data consistently."
      ],
      "metadata": {
        "id": "yN_8NZ7cPq1j"
      }
    }
  ]
}