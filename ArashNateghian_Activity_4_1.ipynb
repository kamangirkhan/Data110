{
  "nbformat": 4,
  "nbformat_minor": 0,
  "metadata": {
    "colab": {
      "provenance": [],
      "authorship_tag": "ABX9TyPmfPlUtzRTxEeXh7gBXKbX",
      "include_colab_link": true
    },
    "kernelspec": {
      "name": "python3",
      "display_name": "Python 3"
    },
    "language_info": {
      "name": "python"
    }
  },
  "cells": [
    {
      "cell_type": "markdown",
      "metadata": {
        "id": "view-in-github",
        "colab_type": "text"
      },
      "source": [
        "<a href=\"https://colab.research.google.com/github/kamangirkhan/Data110/blob/main/ArashNateghian_Activity_4_1.ipynb\" target=\"_parent\"><img src=\"https://colab.research.google.com/assets/colab-badge.svg\" alt=\"Open In Colab\"/></a>"
      ]
    },
    {
      "cell_type": "code",
      "source": [
        "def foo(filename, case_format):\n",
        "    try:\n",
        "        fhand = open(filename, \"r\")\n",
        "    except:\n",
        "        print(f\"File cannot be opened: {filename}\")\n",
        "        return\n",
        "\n",
        "    for line in fhand:\n",
        "        line = line.strip()\n",
        "        if not line:\n",
        "            continue\n",
        "\n",
        "        if case_format.lower() == \"upper\":\n",
        "            print(line.upper())\n",
        "        elif case_format.lower() == \"lower\":\n",
        "            print(line.lower())\n",
        "        elif case_format.lower() == \"camel\":\n",
        "\n",
        "            print(line.title())\n",
        "        else:\n",
        "            print(\"Invalid format. Use 'upper', 'lower', or 'camel'.\")\n",
        "            break\n",
        "\n",
        "    fhand.close()\n",
        "\n",
        "foo(\"my_file.txt\", \"upper\")   # Prints all lines in UPPERCASE\n",
        "foo(\"my_file.txt\", \"lower\")   # Prints all lines in lowercase\n",
        "foo(\"my_file.txt\", \"camel\")   # Prints all lines in Camel Case\n"
      ],
      "metadata": {
        "colab": {
          "base_uri": "https://localhost:8080/"
        },
        "id": "G-TLq9faYER8",
        "outputId": "6b0a84fb-b576-4c8e-cdf2-ea14d0788d60"
      },
      "execution_count": 6,
      "outputs": [
        {
          "output_type": "stream",
          "name": "stdout",
          "text": [
            "FUNCTION PROFIT_MARGIN(FILENAME) READS A CSV FILE OF STOCK DATA AND CALCULATES THE OVERALL PROFIT (OR LOSS) FOR THE PORTFOLIO BY COMPARING CURRENT STOCK VALUES TO THEIR ORIGINAL PURCHASE COST. IT BEGINS BY INITIALIZING TWO TOTALS: ONE FOR PURCHASE COST AND ONE FOR CURRENT VALUE. THE FUNCTION SAFELY ATTEMPTS TO OPEN THE FILE, RETURNING 0 IF THE FILE CAN’T BE OPENED. IT SKIPS THE HEADER ROW AND PROCESSES EACH REMAINING LINE BY STRIPPING WHITESPACE, SPLITTING THE VALUES INTO COLUMNS, AND EXTRACTING THE PURCHASE PRICE, NUMBER OF SHARES, AND CURRENT PRICE. AFTER CLEANING AND CONVERTING THESE VALUES INTO NUMBERS, IT MULTIPLIES SHARES BY PURCHASE PRICE TO ACCUMULATE THE TOTAL PURCHASE COST, AND SHARES BY CURRENT PRICE TO ACCUMULATE THE CURRENT PORTFOLIO VALUE. ONCE ALL ROWS ARE PROCESSED, THE FILE IS CLOSED, AND THE FUNCTION RETURNS THE DIFFERENCE BETWEEN THE CURRENT TOTAL AND THE PURCHASE TOTAL, REPRESENTING THE PROFIT MARGIN OF THE PORTFOLIO.\n",
            "FUNCTION TOTAL_PURCHASE_PRICE(FILENAME), READS A STOCK PORTFOLIO FROM A CSV FILE AND CALCULATES THE TOTAL PURCHASE COST OF ALL STOCKS. IT OPENS THE FILE SAFELY, SKIPS THE HEADER ROW, AND PROCESSES EACH LINE BY SPLITTING THE VALUES INTO COLUMNS. FROM EACH ROW, IT EXTRACTS THE PURCHASE PRICE (REMOVING THE DOLLAR SIGN AND CONVERTING IT TO A FLOAT) AND THE NUMBER OF SHARES (CONVERTED TO AN INTEGER). IT THEN MULTIPLIES THE PURCHASE PRICE BY THE NUMBER OF SHARES TO GET THE COST FOR THAT STOCK AND ACCUMULATES THE RESULT INTO A RUNNING TOTAL. AFTER PROCESSING ALL ROWS, IT CLOSES THE FILE AND RETURNS THE TOTAL AMOUNT SPENT TO PURCHASE THE PORTFOLIO.\n",
            "function profit_margin(filename) reads a csv file of stock data and calculates the overall profit (or loss) for the portfolio by comparing current stock values to their original purchase cost. it begins by initializing two totals: one for purchase cost and one for current value. the function safely attempts to open the file, returning 0 if the file can’t be opened. it skips the header row and processes each remaining line by stripping whitespace, splitting the values into columns, and extracting the purchase price, number of shares, and current price. after cleaning and converting these values into numbers, it multiplies shares by purchase price to accumulate the total purchase cost, and shares by current price to accumulate the current portfolio value. once all rows are processed, the file is closed, and the function returns the difference between the current total and the purchase total, representing the profit margin of the portfolio.\n",
            "function total_purchase_price(filename), reads a stock portfolio from a csv file and calculates the total purchase cost of all stocks. it opens the file safely, skips the header row, and processes each line by splitting the values into columns. from each row, it extracts the purchase price (removing the dollar sign and converting it to a float) and the number of shares (converted to an integer). it then multiplies the purchase price by the number of shares to get the cost for that stock and accumulates the result into a running total. after processing all rows, it closes the file and returns the total amount spent to purchase the portfolio.\n",
            "Function Profit_Margin(Filename) Reads A Csv File Of Stock Data And Calculates The Overall Profit (Or Loss) For The Portfolio By Comparing Current Stock Values To Their Original Purchase Cost. It Begins By Initializing Two Totals: One For Purchase Cost And One For Current Value. The Function Safely Attempts To Open The File, Returning 0 If The File Can’T Be Opened. It Skips The Header Row And Processes Each Remaining Line By Stripping Whitespace, Splitting The Values Into Columns, And Extracting The Purchase Price, Number Of Shares, And Current Price. After Cleaning And Converting These Values Into Numbers, It Multiplies Shares By Purchase Price To Accumulate The Total Purchase Cost, And Shares By Current Price To Accumulate The Current Portfolio Value. Once All Rows Are Processed, The File Is Closed, And The Function Returns The Difference Between The Current Total And The Purchase Total, Representing The Profit Margin Of The Portfolio.\n",
            "Function Total_Purchase_Price(Filename), Reads A Stock Portfolio From A Csv File And Calculates The Total Purchase Cost Of All Stocks. It Opens The File Safely, Skips The Header Row, And Processes Each Line By Splitting The Values Into Columns. From Each Row, It Extracts The Purchase Price (Removing The Dollar Sign And Converting It To A Float) And The Number Of Shares (Converted To An Integer). It Then Multiplies The Purchase Price By The Number Of Shares To Get The Cost For That Stock And Accumulates The Result Into A Running Total. After Processing All Rows, It Closes The File And Returns The Total Amount Spent To Purchase The Portfolio.\n"
          ]
        }
      ]
    },
    {
      "cell_type": "code",
      "execution_count": 7,
      "metadata": {
        "colab": {
          "base_uri": "https://localhost:8080/"
        },
        "id": "_HIxkPjHYASN",
        "outputId": "c52133ba-fa7d-476f-ee17-d6e0d1c1dbec"
      },
      "outputs": [
        {
          "output_type": "stream",
          "name": "stdout",
          "text": [
            "2.9475000000000002\n"
          ]
        }
      ],
      "source": [
        "def bar(txt_string, additional_value):\n",
        "    colon_index = txt_string.find(\":\") # Find the position of the colon\n",
        "    value_str = txt_string[colon_index+1:].strip() # Extract the substring after the colon\n",
        "    value = float(value_str) # Convert to float\n",
        "    result = value + additional_value # Add the additional value\n",
        "    print(result) # Display the result\n",
        "\n",
        "s = \"X-DSPAM-Confidence:0.8475\"\n",
        "bar(s, 2.1)   # Expected output: 2.9475\n"
      ]
    }
  ]
}