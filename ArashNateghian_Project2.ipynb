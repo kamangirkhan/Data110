{
  "nbformat": 4,
  "nbformat_minor": 0,
  "metadata": {
    "colab": {
      "provenance": [],
      "authorship_tag": "ABX9TyNhAJpARFpol+EJpIJezjh4",
      "include_colab_link": true
    },
    "kernelspec": {
      "name": "python3",
      "display_name": "Python 3"
    },
    "language_info": {
      "name": "python"
    }
  },
  "cells": [
    {
      "cell_type": "markdown",
      "metadata": {
        "id": "view-in-github",
        "colab_type": "text"
      },
      "source": [
        "<a href=\"https://colab.research.google.com/github/kamangirkhan/Data110/blob/main/ArashNateghian_Project2.ipynb\" target=\"_parent\"><img src=\"https://colab.research.google.com/assets/colab-badge.svg\" alt=\"Open In Colab\"/></a>"
      ]
    },
    {
      "cell_type": "code",
      "execution_count": 14,
      "metadata": {
        "id": "x1TVULKPlZlY",
        "colab": {
          "base_uri": "https://localhost:8080/",
          "height": 373
        },
        "outputId": "6b7ad173-f45c-43ff-e3f9-0f896ae7dddb"
      },
      "outputs": [
        {
          "output_type": "stream",
          "name": "stdout",
          "text": [
            "\n",
            "Menu: {'burger': 500, 'chicken salad': 350, 'fish tacos': 400, 'pasta': 450}\n",
            "Add-ons: {'chips': 200, 'fries': 300, 'drink': 150, 'dressing': 100, 'dessert': 250}\n"
          ]
        },
        {
          "output_type": "error",
          "ename": "KeyboardInterrupt",
          "evalue": "Interrupted by user",
          "traceback": [
            "\u001b[0;31m---------------------------------------------------------------------------\u001b[0m",
            "\u001b[0;31mKeyboardInterrupt\u001b[0m                         Traceback (most recent call last)",
            "\u001b[0;32m/tmp/ipython-input-2335084302.py\u001b[0m in \u001b[0;36m<cell line: 0>\u001b[0;34m()\u001b[0m\n\u001b[1;32m     77\u001b[0m \u001b[0;34m\u001b[0m\u001b[0m\n\u001b[1;32m     78\u001b[0m \u001b[0;31m# Run the program\u001b[0m\u001b[0;34m\u001b[0m\u001b[0;34m\u001b[0m\u001b[0m\n\u001b[0;32m---> 79\u001b[0;31m \u001b[0mcalorie_estimator\u001b[0m\u001b[0;34m(\u001b[0m\u001b[0;34m)\u001b[0m\u001b[0;34m\u001b[0m\u001b[0;34m\u001b[0m\u001b[0m\n\u001b[0m",
            "\u001b[0;32m/tmp/ipython-input-2335084302.py\u001b[0m in \u001b[0;36mcalorie_estimator\u001b[0;34m()\u001b[0m\n\u001b[1;32m     28\u001b[0m \u001b[0;34m\u001b[0m\u001b[0m\n\u001b[1;32m     29\u001b[0m         \u001b[0;31m# ask user for food choices\u001b[0m\u001b[0;34m\u001b[0m\u001b[0;34m\u001b[0m\u001b[0m\n\u001b[0;32m---> 30\u001b[0;31m         \u001b[0mselections\u001b[0m \u001b[0;34m=\u001b[0m \u001b[0minput\u001b[0m\u001b[0;34m(\u001b[0m\u001b[0;34m\"\\nEnter your food choice(s), separated by commas: \"\u001b[0m\u001b[0;34m)\u001b[0m\u001b[0;34m.\u001b[0m\u001b[0mlower\u001b[0m\u001b[0;34m(\u001b[0m\u001b[0;34m)\u001b[0m\u001b[0;34m.\u001b[0m\u001b[0msplit\u001b[0m\u001b[0;34m(\u001b[0m\u001b[0;34m\",\"\u001b[0m\u001b[0;34m)\u001b[0m\u001b[0;34m\u001b[0m\u001b[0;34m\u001b[0m\u001b[0m\n\u001b[0m\u001b[1;32m     31\u001b[0m         \u001b[0mselections\u001b[0m \u001b[0;34m=\u001b[0m \u001b[0;34m[\u001b[0m\u001b[0mitem\u001b[0m\u001b[0;34m.\u001b[0m\u001b[0mstrip\u001b[0m\u001b[0;34m(\u001b[0m\u001b[0;34m)\u001b[0m \u001b[0;32mfor\u001b[0m \u001b[0mitem\u001b[0m \u001b[0;32min\u001b[0m \u001b[0mselections\u001b[0m \u001b[0;32mif\u001b[0m \u001b[0mitem\u001b[0m\u001b[0;34m.\u001b[0m\u001b[0mstrip\u001b[0m\u001b[0;34m(\u001b[0m\u001b[0;34m)\u001b[0m\u001b[0;34m]\u001b[0m\u001b[0;34m\u001b[0m\u001b[0;34m\u001b[0m\u001b[0m\n\u001b[1;32m     32\u001b[0m \u001b[0;34m\u001b[0m\u001b[0m\n",
            "\u001b[0;32m/usr/local/lib/python3.12/dist-packages/ipykernel/kernelbase.py\u001b[0m in \u001b[0;36mraw_input\u001b[0;34m(self, prompt)\u001b[0m\n\u001b[1;32m   1175\u001b[0m                 \u001b[0;34m\"raw_input was called, but this frontend does not support input requests.\"\u001b[0m\u001b[0;34m\u001b[0m\u001b[0;34m\u001b[0m\u001b[0m\n\u001b[1;32m   1176\u001b[0m             )\n\u001b[0;32m-> 1177\u001b[0;31m         return self._input_request(\n\u001b[0m\u001b[1;32m   1178\u001b[0m             \u001b[0mstr\u001b[0m\u001b[0;34m(\u001b[0m\u001b[0mprompt\u001b[0m\u001b[0;34m)\u001b[0m\u001b[0;34m,\u001b[0m\u001b[0;34m\u001b[0m\u001b[0;34m\u001b[0m\u001b[0m\n\u001b[1;32m   1179\u001b[0m             \u001b[0mself\u001b[0m\u001b[0;34m.\u001b[0m\u001b[0m_parent_ident\u001b[0m\u001b[0;34m[\u001b[0m\u001b[0;34m\"shell\"\u001b[0m\u001b[0;34m]\u001b[0m\u001b[0;34m,\u001b[0m\u001b[0;34m\u001b[0m\u001b[0;34m\u001b[0m\u001b[0m\n",
            "\u001b[0;32m/usr/local/lib/python3.12/dist-packages/ipykernel/kernelbase.py\u001b[0m in \u001b[0;36m_input_request\u001b[0;34m(self, prompt, ident, parent, password)\u001b[0m\n\u001b[1;32m   1217\u001b[0m             \u001b[0;32mexcept\u001b[0m \u001b[0mKeyboardInterrupt\u001b[0m\u001b[0;34m:\u001b[0m\u001b[0;34m\u001b[0m\u001b[0;34m\u001b[0m\u001b[0m\n\u001b[1;32m   1218\u001b[0m                 \u001b[0;31m# re-raise KeyboardInterrupt, to truncate traceback\u001b[0m\u001b[0;34m\u001b[0m\u001b[0;34m\u001b[0m\u001b[0m\n\u001b[0;32m-> 1219\u001b[0;31m                 \u001b[0;32mraise\u001b[0m \u001b[0mKeyboardInterrupt\u001b[0m\u001b[0;34m(\u001b[0m\u001b[0;34m\"Interrupted by user\"\u001b[0m\u001b[0;34m)\u001b[0m \u001b[0;32mfrom\u001b[0m \u001b[0;32mNone\u001b[0m\u001b[0;34m\u001b[0m\u001b[0;34m\u001b[0m\u001b[0m\n\u001b[0m\u001b[1;32m   1220\u001b[0m             \u001b[0;32mexcept\u001b[0m \u001b[0mException\u001b[0m\u001b[0;34m:\u001b[0m\u001b[0;34m\u001b[0m\u001b[0;34m\u001b[0m\u001b[0m\n\u001b[1;32m   1221\u001b[0m                 \u001b[0mself\u001b[0m\u001b[0;34m.\u001b[0m\u001b[0mlog\u001b[0m\u001b[0;34m.\u001b[0m\u001b[0mwarning\u001b[0m\u001b[0;34m(\u001b[0m\u001b[0;34m\"Invalid Message:\"\u001b[0m\u001b[0;34m,\u001b[0m \u001b[0mexc_info\u001b[0m\u001b[0;34m=\u001b[0m\u001b[0;32mTrue\u001b[0m\u001b[0;34m)\u001b[0m\u001b[0;34m\u001b[0m\u001b[0;34m\u001b[0m\u001b[0m\n",
            "\u001b[0;31mKeyboardInterrupt\u001b[0m: Interrupted by user"
          ]
        }
      ],
      "source": [
        "# Dictionary of foods and calories\n",
        "foods = {\n",
        "    \"burger\": 500,\n",
        "    \"chicken salad\": 350,\n",
        "    \"fish tacos\": 400,\n",
        "    \"pasta\": 450  # extra offering\n",
        "}\n",
        "\n",
        "# Dictionary of optional add-ons\n",
        "addons = {\n",
        "    \"chips\": 200,\n",
        "    \"fries\": 300,\n",
        "    \"drink\": 150,\n",
        "    \"dressing\": 100,\n",
        "    \"dessert\": 250\n",
        "}\n",
        "\n",
        "# Daily recommended calories\n",
        "daily_calories = {\n",
        "    \"adult\": 2000,\n",
        "    \"child\": 1500\n",
        "}\n",
        "\n",
        "def calorie_estimator():\n",
        "    while True:\n",
        "        print(\"\\nMenu:\", foods)\n",
        "        print(\"Add-ons:\", addons)\n",
        "\n",
        "        # ask user for food choices\n",
        "        selections = input(\"\\nEnter your food choice(s), separated by commas: \").lower().split(\",\")\n",
        "        selections = [item.strip() for item in selections if item.strip()]\n",
        "\n",
        "        if not selections:\n",
        "            print(\"You must choose at least one food item!\")\n",
        "            continue\n",
        "\n",
        "        # ask for add-ons\n",
        "        extras = input(\"Enter any add-ons (chips, fries, drink, dressing, dessert) or 'none': \").lower().split(\",\")\n",
        "        extras = [item.strip() for item in extras if item.strip() and item != \"none\"]\n",
        "\n",
        "        # ask type of eater\n",
        "        eater = input(\"Is this meal for an adult or child? \").lower().strip()\n",
        "        if eater not in daily_calories:\n",
        "            eater = \"adult\"  # default if invalid\n",
        "\n",
        "        # calculate total\n",
        "        total = 0\n",
        "        print(\"\\nYour order:\")\n",
        "        for item in selections:\n",
        "            if item in foods:\n",
        "                print(f\"- {item} : {foods[item]} cal\")\n",
        "                total += foods[item]\n",
        "            else:\n",
        "                print(f\"- {item} is not on the menu\")\n",
        "\n",
        "        for item in extras:\n",
        "            if item in addons:\n",
        "                print(f\"- {item} : {addons[item]} cal\")\n",
        "                total += addons[item]\n",
        "            else:\n",
        "                print(f\"- {item} is not a valid add-on\")\n",
        "\n",
        "        print(f\"\\nTotal calories: {total}\")\n",
        "\n",
        "        # recommendation\n",
        "        if total > daily_calories[eater]:\n",
        "            print(f\"⚠ This exceeds the recommended daily calories for a {eater}. Consider reducing portions.\")\n",
        "        else:\n",
        "            print(f\"✅ This is within the daily calories for a {eater}.\")\n",
        "\n",
        "        # ask to repeat\n",
        "        again = input(\"\\nWould you like to estimate another meal? (yes/no): \").lower()\n",
        "        if again != \"yes\":\n",
        "            print(\"Goodbye! Stay healthy!\")\n",
        "            break\n",
        "\n",
        "\n",
        "# Run the program\n",
        "calorie_estimator()\n"
      ]
    }
  ]
}