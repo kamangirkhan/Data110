{
  "nbformat": 4,
  "nbformat_minor": 0,
  "metadata": {
    "colab": {
      "provenance": [],
      "authorship_tag": "ABX9TyOBHOXTGovpdm6LFzF6GGx/",
      "include_colab_link": true
    },
    "kernelspec": {
      "name": "python3",
      "display_name": "Python 3"
    },
    "language_info": {
      "name": "python"
    }
  },
  "cells": [
    {
      "cell_type": "markdown",
      "metadata": {
        "id": "view-in-github",
        "colab_type": "text"
      },
      "source": [
        "<a href=\"https://colab.research.google.com/github/kamangirkhan/Data110/blob/main/Final_Report.ipynb\" target=\"_parent\"><img src=\"https://colab.research.google.com/assets/colab-badge.svg\" alt=\"Open In Colab\"/></a>"
      ]
    },
    {
      "cell_type": "markdown",
      "source": [
        "# **Final Report: Exploratory Data Analysis of Accident Fatalities**"
      ],
      "metadata": {
        "id": "oh4_XBrx9IK7"
      }
    },
    {
      "cell_type": "markdown",
      "source": [
        "# Introduction\n",
        "\n",
        "### Dataset and Motivation for Selecting these Datasets:\n",
        "This report presents an exploratory data analysis (EDA) of traffic accident fatalities using two comprehensive datasets: `accident.csv` and `person.csv`. The `accident.csv` file provides detailed information about individual crash events, including time, location, environmental conditions, and fatality counts. The `person.csv` dataset complements this by offering demographic information about individuals involved in those accidents, such as age, gender, and role in the crash. The motivation for selecting this dataset lies in its relevance to public safety and its potential to reveal meaningful insights into when, where, and to whom fatal accidents are most likely to occur.\n"
      ],
      "metadata": {
        "id": "WlzZO3CG7_8-"
      }
    },
    {
      "cell_type": "markdown",
      "source": [
        "# Dataset and Motivation for Selecting these Datasets:\n",
        "\n",
        "### Exploratory Data Analysis (EDA) Process & Key Findings\n",
        "The EDA process began with thorough data cleaning and preparation. Time-related columns, including `HOUR`, `MONTH`, and `YEAR`, were converted to numeric formats to ensure accurate analysis. Placeholder values like `99`, often used to indicate unknown entries, were properly handled and treated as missing data. Geographic coordinates were validated to exclude invalid entries, and the accident and person datasets were merged on a common identifier (`ST_CASE`) to facilitate richer, multi-dimensional analysis.\n",
        "\n",
        "### Key Findings\n",
        "Key findings from this analysis indicate that fatal accidents predominantly occur during the afternoon and evening hours, with a clear peak between 2 PM and 10 PM. This aligns with high-traffic periods such as rush hours, suggesting a correlation between congestion and accident frequency. Interestingly, most accidents were recorded under clear weather conditions, implying that factors other than visibility—such as human behavior or traffic volume—play a more significant role in accident occurrence. Demographic analysis revealed that teenagers and young adults are disproportionately represented among fatal accident victims, with males exhibiting higher fatality rates across nearly all age groups. Furthermore, the majority of these victims were passengers in motor vehicles in transport, underscoring the importance of occupant safety measures."
      ],
      "metadata": {
        "id": "o5Uvv5528Get"
      }
    },
    {
      "cell_type": "markdown",
      "source": [
        "# Visualizations & Insights\n",
        "### Accidents by Hour\n",
        "A static bar plot was created to visualize the distribution of accidents across different hours of the day. The analysis revealed that accident frequency peaks during the afternoon and evening hours, specifically between 2 PM and 10 PM. This timeframe corresponds with typical rush hour periods, indicating that higher traffic volumes and congestion significantly contribute to the increased number of accidents during these times.\n",
        "\n",
        "### Accidents by Weather Condition\n",
        "The relationship between weather conditions and accident frequency was examined using a count plot. The results showed that most accidents occur during clear weather conditions. This finding suggests that poor visibility or adverse weather is not the primary cause of these accidents. Instead, human factors such as driver behavior, traffic density, and distraction are likely to play a more critical role in accident occurrence.\n",
        "\n",
        "### Fatalities by Age and Gender\n",
        "An analysis of fatalities by age and gender was conducted using a line plot and a population pyramid visualization. The data indicated that teenagers and young adults are the most vulnerable groups, experiencing the highest fatality rates. Additionally, the analysis showed that males consistently have higher fatality rates compared to females across nearly all age groups, emphasizing the need for targeted interventions for these high-risk demographics.\n",
        "\n",
        "### Geospatial Analysis (Heatmap & Clusters)\n",
        "A geospatial analysis was conducted using interactive visualizations to highlight accident hotspots. Heatmaps and cluster markers effectively illustrated that fatal accidents are heavily concentrated in and around major urban centers. This spatial pattern suggests that densely populated areas with higher traffic volumes contribute significantly to the overall fatality statistics.\n",
        "\n",
        "### Treemap of Fatalities by Harmful Event\n",
        "A treemap visualization was created to illustrate the distribution of fatalities by harmful event types. This allows for a quick comparison of which event categories (e.g., Motor Vehicles In-Transport, Passengers) contribute the most to fatal crashes, providing a clear visual proportion."
      ],
      "metadata": {
        "id": "8aoZesW2954c"
      }
    },
    {
      "cell_type": "markdown",
      "source": [
        "# Conclusion & Next Steps\n",
        "### Conclusion\n",
        "In conclusion, the analysis underscores critical patterns in traffic accident fatalities: peak occurrence times align with periods of heavy traffic, young individuals are at heightened risk, and urban areas remain the primary locations for fatal crashes. Contrary to common assumptions, adverse weather conditions are not the predominant factor in these incidents. These findings offer valuable insights for traffic safety initiatives, urban planning, and public awareness campaigns.\n",
        "\n",
        "### Next Steps\n",
        "Moving forward, it would be beneficial to delve deeper into contributing factors such as speeding, alcohol impairment, and driver distractions. Additionally, analyzing accident trends over multiple years could provide further clarity on whether these patterns persist over time. Applying predictive modeling techniques to forecast potential accident hotspots could also serve as a valuable tool for proactive safety measures."
      ],
      "metadata": {
        "id": "mtWRBi8T_94S"
      }
    },
    {
      "cell_type": "markdown",
      "source": [
        "# Code & Notebook Link\n",
        "All data processing, analysis, and visualization were performed using Python, leveraging libraries such as Pandas, Plotly, and Folium. The complete code and interactive visualizations are included in the accompanying Jupyter Notebook titled [ArashNateghian_Final.ipynb](ArashNateghian_Final.ipynb)."
      ],
      "metadata": {
        "id": "ftDhiHgOAOQv"
      }
    }
  ]
}