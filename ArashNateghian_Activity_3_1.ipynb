{
  "nbformat": 4,
  "nbformat_minor": 0,
  "metadata": {
    "colab": {
      "provenance": [],
      "authorship_tag": "ABX9TyOgRowfDYUPEXdYmPT6LnHh",
      "include_colab_link": true
    },
    "kernelspec": {
      "name": "python3",
      "display_name": "Python 3"
    },
    "language_info": {
      "name": "python"
    }
  },
  "cells": [
    {
      "cell_type": "markdown",
      "metadata": {
        "id": "view-in-github",
        "colab_type": "text"
      },
      "source": [
        "<a href=\"https://colab.research.google.com/github/kamangirkhan/Data110/blob/main/ArashNateghian_Activity_3_1.ipynb\" target=\"_parent\"><img src=\"https://colab.research.google.com/assets/colab-badge.svg\" alt=\"Open In Colab\"/></a>"
      ]
    },
    {
      "cell_type": "markdown",
      "source": [
        "**Arash Nateghian**"
      ],
      "metadata": {
        "id": "OtMhWxECfvhF"
      }
    },
    {
      "cell_type": "markdown",
      "source": [
        "This program converts dates entered in the numeric format mm/dd/yyyy into a written format such as Month dd, yyyy. It also includes built-in validation to recognize leap years and ensures only valid dates are displayed. If the user enters an invalid date, the program clearly outputs “Invalid Date.”"
      ],
      "metadata": {
        "id": "JaOPHeZ4f1ey"
      }
    },
    {
      "cell_type": "code",
      "source": [
        "MONTHS = [\n",
        "    \"January\", \"February\", \"March\", \"April\", \"May\", \"June\",\n",
        "    \"July\", \"August\", \"September\", \"October\", \"November\", \"December\"\n",
        "]\n",
        "\n",
        "def leap(year):\n",
        "    year += 2000  # Convert to full year (e.g., 24 → 2024)\n",
        "    return (year % 4 == 0 and year % 100 != 0) or (year % 400 == 0)\n",
        "\n",
        "# Get the year (2-digit)\n",
        "while True:\n",
        "    try:\n",
        "        year = int(input(\"Enter year (2 digits, e.g. 24 for 2024): \"))\n",
        "        if 0 <= year <= 99:\n",
        "            break\n",
        "        else:\n",
        "            print(\" Invalid year. Please enter two digits (00–99).\\n\")\n",
        "    except ValueError:\n",
        "        print(\" Invalid input. Please enter a number.\\n\")\n",
        "\n",
        "# Get the month\n",
        "while True:\n",
        "    try:\n",
        "        month = int(input(\"Enter month (1–12): \"))\n",
        "        if 1 <= month <= 12:\n",
        "            break\n",
        "        else:\n",
        "            print(\" Invalid month. Must be between 1 and 12.\\n\")\n",
        "    except ValueError:\n",
        "        print(\" Invalid input. Please enter a number.\\n\")\n",
        "\n",
        "# Get the day with validation based on month and year\n",
        "while True:\n",
        "    try:\n",
        "        if month in [1, 3, 5, 7, 8, 10, 12]:\n",
        "            max_day = 31\n",
        "        elif month in [4, 6, 9, 11]:\n",
        "            max_day = 30\n",
        "        elif month == 2:\n",
        "            max_day = 29 if leap(year) else 28\n",
        "\n",
        "        day = int(input(f\"Enter day (1–{max_day}): \"))\n",
        "        if 1 <= day <= max_day:\n",
        "            break\n",
        "        else:\n",
        "            print(f\" Invalid day for {MONTHS[month - 1]} in year 20{year:02d}. Max is {max_day}.\\n\")\n",
        "    except ValueError:\n",
        "        print(\" Invalid input. Please enter a number.\\n\")\n",
        "\n",
        "# Show the final formatted date\n",
        "print(f\"\\n Final formatted date: {MONTHS[month - 1]} {day}, 20{year:02d}\")\n"
      ],
      "metadata": {
        "colab": {
          "base_uri": "https://localhost:8080/"
        },
        "id": "dyF9a4oDLhTX",
        "outputId": "1c15e605-2b29-48d4-d9df-66e6ecd9cf56"
      },
      "execution_count": 13,
      "outputs": [
        {
          "output_type": "stream",
          "name": "stdout",
          "text": [
            "Enter year (2 digits, e.g. 24 for 2024): 21\n",
            "Enter month (1–12): 0\n",
            " Invalid month. Must be between 1 and 12.\n",
            "\n",
            "Enter month (1–12): 2\n",
            "Enter day (1–28): 29\n",
            " Invalid day for February in year 2021. Max is 28.\n",
            "\n",
            "Enter day (1–28): 28\n",
            "\n",
            " Final formatted date: February 28, 2021\n"
          ]
        }
      ]
    }
  ]
}