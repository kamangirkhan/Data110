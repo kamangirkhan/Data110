{
  "nbformat": 4,
  "nbformat_minor": 0,
  "metadata": {
    "colab": {
      "provenance": [],
      "authorship_tag": "ABX9TyMDheFTN7SVWTuR8Ooq047J",
      "include_colab_link": true
    },
    "kernelspec": {
      "name": "python3",
      "display_name": "Python 3"
    },
    "language_info": {
      "name": "python"
    }
  },
  "cells": [
    {
      "cell_type": "markdown",
      "metadata": {
        "id": "view-in-github",
        "colab_type": "text"
      },
      "source": [
        "<a href=\"https://colab.research.google.com/github/kamangirkhan/Data110/blob/main/ArashNateghian_Activity_2_1.ipynb\" target=\"_parent\"><img src=\"https://colab.research.google.com/assets/colab-badge.svg\" alt=\"Open In Colab\"/></a>"
      ]
    },
    {
      "cell_type": "markdown",
      "source": [
        "Print each number in the list."
      ],
      "metadata": {
        "id": "IzVb-MPIeqB_"
      }
    },
    {
      "cell_type": "code",
      "execution_count": 1,
      "metadata": {
        "colab": {
          "base_uri": "https://localhost:8080/"
        },
        "id": "el6Joq5weRnD",
        "outputId": "f0fd40e6-8bc2-418a-870d-6f60a258d9d7"
      },
      "outputs": [
        {
          "output_type": "stream",
          "name": "stdout",
          "text": [
            "1\n",
            "2\n",
            "3\n",
            "4\n",
            "5\n"
          ]
        }
      ],
      "source": [
        "numbers = [1, 2, 3, 4, 5]\n",
        "for number in numbers:\n",
        "    print(number)"
      ]
    },
    {
      "cell_type": "markdown",
      "source": [
        "Print the numbers from 1 to 5 using the range() function."
      ],
      "metadata": {
        "id": "_zzNt_gDetex"
      }
    },
    {
      "cell_type": "code",
      "source": [
        "for number in range(1, 6):\n",
        "    print(number)"
      ],
      "metadata": {
        "colab": {
          "base_uri": "https://localhost:8080/"
        },
        "id": "mAip0RzoelFo",
        "outputId": "efe768bc-6bc5-4bbd-f1ed-fb3263dc3e55"
      },
      "execution_count": 2,
      "outputs": [
        {
          "output_type": "stream",
          "name": "stdout",
          "text": [
            "1\n",
            "2\n",
            "3\n",
            "4\n",
            "5\n"
          ]
        }
      ]
    },
    {
      "cell_type": "markdown",
      "source": [
        "Print the multiplication table of numbers from 1 to 5."
      ],
      "metadata": {
        "id": "J7t8KNRre7TY"
      }
    },
    {
      "cell_type": "code",
      "source": [
        "for i in range(1, 6):\n",
        "    for j in range(1, 11):\n",
        "        print(i * j, end=\" \")\n",
        "    print()"
      ],
      "metadata": {
        "colab": {
          "base_uri": "https://localhost:8080/"
        },
        "id": "zRKHWU9_e87b",
        "outputId": "97ded761-89dc-4489-9691-0ed8676c95c0"
      },
      "execution_count": 3,
      "outputs": [
        {
          "output_type": "stream",
          "name": "stdout",
          "text": [
            "1 2 3 4 5 6 7 8 9 10 \n",
            "2 4 6 8 10 12 14 16 18 20 \n",
            "3 6 9 12 15 18 21 24 27 30 \n",
            "4 8 12 16 20 24 28 32 36 40 \n",
            "5 10 15 20 25 30 35 40 45 50 \n"
          ]
        }
      ]
    },
    {
      "cell_type": "markdown",
      "source": [
        "Print the numbers from 1 to 5, but exit the loop if the number is 3."
      ],
      "metadata": {
        "id": "MLx8Ph9VfEeV"
      }
    },
    {
      "cell_type": "code",
      "source": [
        "for number in range(1, 6):\n",
        "    if number == 3:\n",
        "        break\n",
        "    print(number, end= \" \")"
      ],
      "metadata": {
        "colab": {
          "base_uri": "https://localhost:8080/"
        },
        "id": "bUJTF3hcfHx9",
        "outputId": "00c94bd4-2869-4b82-e6ed-98928d5bf569"
      },
      "execution_count": 4,
      "outputs": [
        {
          "output_type": "stream",
          "name": "stdout",
          "text": [
            "1 2 "
          ]
        }
      ]
    },
    {
      "cell_type": "markdown",
      "source": [
        "Print the even numbers from 1 to 11.\n",
        "\n"
      ],
      "metadata": {
        "id": "29aaS9o1fN0f"
      }
    },
    {
      "cell_type": "code",
      "source": [
        "for number in range(1, 11):\n",
        "    if number % 2 == 1:\n",
        "        continue\n",
        "    print(number, end= \" \")"
      ],
      "metadata": {
        "colab": {
          "base_uri": "https://localhost:8080/"
        },
        "id": "Pv5OHU5nfUKO",
        "outputId": "5fa869ba-61eb-442d-e61d-1137f50cef04"
      },
      "execution_count": 6,
      "outputs": [
        {
          "output_type": "stream",
          "name": "stdout",
          "text": [
            "2 4 6 8 10 "
          ]
        }
      ]
    },
    {
      "cell_type": "markdown",
      "source": [
        "Print the prime numbers from 1 to 100."
      ],
      "metadata": {
        "id": "_nXvvmk9fjHL"
      }
    },
    {
      "cell_type": "code",
      "source": [
        "print (\"Prime numbers between 1 and 100 are:\")\n",
        "for number in range(2, 101):\n",
        "    for i in range(2, number):\n",
        "        if number % i == 0:\n",
        "            break\n",
        "    else:\n",
        "        print(number, end= \" \")"
      ],
      "metadata": {
        "colab": {
          "base_uri": "https://localhost:8080/"
        },
        "id": "aOTgkVsgfl-O",
        "outputId": "db29d000-7ed4-477b-9edf-d0814a8e760c"
      },
      "execution_count": 8,
      "outputs": [
        {
          "output_type": "stream",
          "name": "stdout",
          "text": [
            "Prime numbers between 1 and 100 are:\n",
            "2 3 5 7 11 13 17 19 23 29 31 37 41 43 47 53 59 61 67 71 73 79 83 89 97 "
          ]
        }
      ]
    },
    {
      "cell_type": "markdown",
      "source": [
        "Print numbers from 1 to 5 using while loop."
      ],
      "metadata": {
        "id": "Ss_v15-Df5wC"
      }
    },
    {
      "cell_type": "code",
      "source": [
        "i = 1\n",
        "while i <= 5:\n",
        "    print(i)\n",
        "    i += 1"
      ],
      "metadata": {
        "colab": {
          "base_uri": "https://localhost:8080/"
        },
        "id": "OdShaHdKf_Xs",
        "outputId": "e485e30c-66dc-48e1-ef6f-729acf20dcc9"
      },
      "execution_count": 10,
      "outputs": [
        {
          "output_type": "stream",
          "name": "stdout",
          "text": [
            "1\n",
            "2\n",
            "3\n",
            "4\n",
            "5\n"
          ]
        }
      ]
    },
    {
      "cell_type": "markdown",
      "source": [
        "Find the sum of numbers from 1 to 10 using while loop."
      ],
      "metadata": {
        "id": "Lly_YyZugNPf"
      }
    },
    {
      "cell_type": "code",
      "source": [
        "total = 0\n",
        "i = 1\n",
        "while i <= 10:\n",
        "    total += i\n",
        "    i += 1\n",
        "print(\"The sum is:\", total)"
      ],
      "metadata": {
        "colab": {
          "base_uri": "https://localhost:8080/"
        },
        "id": "g1MS90L7gOZG",
        "outputId": "7bb0b582-98d0-4e8e-9b71-a5de87d5d640"
      },
      "execution_count": 11,
      "outputs": [
        {
          "output_type": "stream",
          "name": "stdout",
          "text": [
            "The sum is: 55\n"
          ]
        }
      ]
    },
    {
      "cell_type": "markdown",
      "source": [
        "Print even numbers from 1 to 10 using while loop."
      ],
      "metadata": {
        "id": "0VsM01dNgWRI"
      }
    },
    {
      "cell_type": "code",
      "source": [
        "i = 1\n",
        "while i <= 10:\n",
        "    if i % 2 == 0:\n",
        "        print(i)\n",
        "    i += 1"
      ],
      "metadata": {
        "colab": {
          "base_uri": "https://localhost:8080/"
        },
        "id": "wv6TuMlAgXWf",
        "outputId": "dc615149-2f14-4c46-db8e-240d46f89150"
      },
      "execution_count": 15,
      "outputs": [
        {
          "output_type": "stream",
          "name": "stdout",
          "text": [
            "2\n",
            "4\n",
            "6\n",
            "8\n",
            "10\n"
          ]
        }
      ]
    },
    {
      "cell_type": "markdown",
      "source": [
        "Print numbers from 1 to 5, but exit the loop if the number is 3."
      ],
      "metadata": {
        "id": "_psfDQzdgi_B"
      }
    },
    {
      "cell_type": "code",
      "source": [
        "i = 1\n",
        "while i <= 5:\n",
        "    if i == 3:\n",
        "        break\n",
        "    print(i)\n",
        "    i += 1"
      ],
      "metadata": {
        "colab": {
          "base_uri": "https://localhost:8080/"
        },
        "id": "4YTVNBvSgkgt",
        "outputId": "aceacc11-967e-43af-8544-5f4164ea3738"
      },
      "execution_count": 13,
      "outputs": [
        {
          "output_type": "stream",
          "name": "stdout",
          "text": [
            "1\n",
            "2\n"
          ]
        }
      ]
    },
    {
      "cell_type": "markdown",
      "source": [
        "Print odd numbers from 1 to 10 using while loop and skip even numbers."
      ],
      "metadata": {
        "id": "d-vXSJm7g4Mc"
      }
    },
    {
      "cell_type": "code",
      "source": [
        "i = 1\n",
        "while i <= 10:\n",
        "    if i % 2 == 0:\n",
        "        i += 1\n",
        "        continue\n",
        "    print(i)\n",
        "    i += 1"
      ],
      "metadata": {
        "colab": {
          "base_uri": "https://localhost:8080/"
        },
        "id": "lF__5mCng4tV",
        "outputId": "822007bb-0a08-439d-d8ad-1eec9fb47a63"
      },
      "execution_count": 14,
      "outputs": [
        {
          "output_type": "stream",
          "name": "stdout",
          "text": [
            "1\n",
            "3\n",
            "5\n",
            "7\n",
            "9\n"
          ]
        }
      ]
    },
    {
      "cell_type": "markdown",
      "source": [],
      "metadata": {
        "id": "U1T00JAOhgfx"
      }
    },
    {
      "cell_type": "code",
      "source": [
        "list1 = [1, 2, 3]\n",
        "list2 = ['a', 'b', 'c']\n",
        "\n",
        "for x in list1:\n",
        "    for y in list2:\n",
        "        print(x, y, end= '\\t')"
      ],
      "metadata": {
        "colab": {
          "base_uri": "https://localhost:8080/"
        },
        "id": "mN8otFPKhg5-",
        "outputId": "b520ce0f-47cc-4157-fcc4-0fcb4873a3fd"
      },
      "execution_count": 23,
      "outputs": [
        {
          "output_type": "stream",
          "name": "stdout",
          "text": [
            "1 a\t1 b\t1 c\t2 a\t2 b\t2 c\t3 a\t3 b\t3 c\t"
          ]
        }
      ]
    },
    {
      "cell_type": "markdown",
      "source": [
        "Print the multiplication table using nested loops."
      ],
      "metadata": {
        "id": "kE_HF0msh_dQ"
      }
    },
    {
      "cell_type": "code",
      "source": [
        "for i in range(1, 11):\n",
        "    for j in range(1, 11):\n",
        "        print(i * j, end='\\t')\n",
        "    print()"
      ],
      "metadata": {
        "colab": {
          "base_uri": "https://localhost:8080/"
        },
        "id": "By01TbXYiDLt",
        "outputId": "ddee50c2-7397-4ed5-85bd-cc738a6cb4f8"
      },
      "execution_count": 24,
      "outputs": [
        {
          "output_type": "stream",
          "name": "stdout",
          "text": [
            "1\t2\t3\t4\t5\t6\t7\t8\t9\t10\t\n",
            "2\t4\t6\t8\t10\t12\t14\t16\t18\t20\t\n",
            "3\t6\t9\t12\t15\t18\t21\t24\t27\t30\t\n",
            "4\t8\t12\t16\t20\t24\t28\t32\t36\t40\t\n",
            "5\t10\t15\t20\t25\t30\t35\t40\t45\t50\t\n",
            "6\t12\t18\t24\t30\t36\t42\t48\t54\t60\t\n",
            "7\t14\t21\t28\t35\t42\t49\t56\t63\t70\t\n",
            "8\t16\t24\t32\t40\t48\t56\t64\t72\t80\t\n",
            "9\t18\t27\t36\t45\t54\t63\t72\t81\t90\t\n",
            "10\t20\t30\t40\t50\t60\t70\t80\t90\t100\t\n"
          ]
        }
      ]
    },
    {
      "cell_type": "markdown",
      "source": [
        "Iterate over a 2D list using nested loops."
      ],
      "metadata": {
        "id": "TZCrUHDliN1m"
      }
    },
    {
      "cell_type": "code",
      "source": [
        "matrix = [[1, 2, 3], [4, 5, 6], [7, 8, 9]]\n",
        "\n",
        "for row in matrix:\n",
        "    for col in row:\n",
        "        print(col, end=' ')\n",
        "    print()"
      ],
      "metadata": {
        "colab": {
          "base_uri": "https://localhost:8080/"
        },
        "id": "TChZ4vkWjUgQ",
        "outputId": "5329bdd1-c0bc-4741-fd63-ba3c09bf59ea"
      },
      "execution_count": 25,
      "outputs": [
        {
          "output_type": "stream",
          "name": "stdout",
          "text": [
            "1 2 3 \n",
            "4 5 6 \n",
            "7 8 9 \n"
          ]
        }
      ]
    },
    {
      "cell_type": "markdown",
      "source": [
        "creates a list containing the squares of the numbers 1 to 5."
      ],
      "metadata": {
        "id": "i-EYcCWnoCjI"
      }
    },
    {
      "cell_type": "code",
      "source": [
        "squares = [x**2 for x in range(1, 6)]\n",
        "print (squares)"
      ],
      "metadata": {
        "colab": {
          "base_uri": "https://localhost:8080/"
        },
        "id": "pUxvnFlLnw9X",
        "outputId": "35df4230-b1ad-4d6c-b90d-3c3b46d486ee"
      },
      "execution_count": 28,
      "outputs": [
        {
          "output_type": "stream",
          "name": "stdout",
          "text": [
            "[1, 4, 9, 16, 25]\n"
          ]
        }
      ]
    },
    {
      "cell_type": "markdown",
      "source": [
        "Use enumerate() for loops that require the index:"
      ],
      "metadata": {
        "id": "eOtHJevSoHGD"
      }
    },
    {
      "cell_type": "code",
      "source": [
        "fruit = ['apple', 'banana', 'cherry']\n",
        "for i, fruit in enumerate(fruit):\n",
        "  print(i, fruit)"
      ],
      "metadata": {
        "colab": {
          "base_uri": "https://localhost:8080/"
        },
        "id": "dR9iQojPotAD",
        "outputId": "03b8a46f-f6c9-43b2-bd5b-228b6de1ecb8"
      },
      "execution_count": 29,
      "outputs": [
        {
          "output_type": "stream",
          "name": "stdout",
          "text": [
            "0 apple\n",
            "1 banana\n",
            "2 cherry\n"
          ]
        }
      ]
    },
    {
      "cell_type": "markdown",
      "source": [
        "Use zip() for looping over multiple lists:"
      ],
      "metadata": {
        "id": "mGh3VEdppyM-"
      }
    },
    {
      "cell_type": "code",
      "source": [
        "names = ['Arash', 'Emitis', 'Azadeh']\n",
        "ages = [44, 42, 42]\n",
        "for name, age in zip(names, ages):\n",
        "    print(name, age)"
      ],
      "metadata": {
        "colab": {
          "base_uri": "https://localhost:8080/"
        },
        "id": "0BuU1F86pzLj",
        "outputId": "4c9b46ce-a8c4-4e53-ece4-9df94064064e"
      },
      "execution_count": 30,
      "outputs": [
        {
          "output_type": "stream",
          "name": "stdout",
          "text": [
            "Arash 44\n",
            "Emitis 42\n",
            "Azadeh 42\n"
          ]
        }
      ]
    },
    {
      "cell_type": "markdown",
      "source": [
        "Use continue to skip an iteration:"
      ],
      "metadata": {
        "id": "ZCVlxdcWqM1e"
      }
    },
    {
      "cell_type": "code",
      "source": [
        "for i in range(1, 11):\n",
        "    if i == 3 or i == 6:\n",
        "        continue\n",
        "    print(i)"
      ],
      "metadata": {
        "colab": {
          "base_uri": "https://localhost:8080/"
        },
        "id": "k1L3206gqQMz",
        "outputId": "a73cf6ac-dbc2-4a01-f1b9-5a6d973eb790"
      },
      "execution_count": 31,
      "outputs": [
        {
          "output_type": "stream",
          "name": "stdout",
          "text": [
            "1\n",
            "2\n",
            "4\n",
            "5\n",
            "7\n",
            "8\n",
            "9\n",
            "10\n"
          ]
        }
      ]
    },
    {
      "cell_type": "markdown",
      "source": [
        "Write code to draw a sideways tree pointing right."
      ],
      "metadata": {
        "id": "iqzaRgrY2Tyb"
      }
    },
    {
      "cell_type": "code",
      "source": [
        "for i in range(2, 13):\n",
        "    print (i * '*')\n",
        "\n",
        "for i in range (11, 1, -1):\n",
        "    print (i*'*')"
      ],
      "metadata": {
        "colab": {
          "base_uri": "https://localhost:8080/"
        },
        "id": "TMffMMGi1MfL",
        "outputId": "3f8051c5-a907-4b45-ed41-5bf269161525"
      },
      "execution_count": 8,
      "outputs": [
        {
          "output_type": "stream",
          "name": "stdout",
          "text": [
            "**\n",
            "***\n",
            "****\n",
            "*****\n",
            "******\n",
            "*******\n",
            "********\n",
            "*********\n",
            "**********\n",
            "***********\n",
            "************\n",
            "***********\n",
            "**********\n",
            "*********\n",
            "********\n",
            "*******\n",
            "******\n",
            "*****\n",
            "****\n",
            "***\n",
            "**\n"
          ]
        }
      ]
    }
  ]
}