{
  "cells": [
    {
      "cell_type": "markdown",
      "metadata": {
        "id": "view-in-github",
        "colab_type": "text"
      },
      "source": [
        "<a href=\"https://colab.research.google.com/github/kamangirkhan/Data110/blob/main/ArashNateghian_HW_7.ipynb\" target=\"_parent\"><img src=\"https://colab.research.google.com/assets/colab-badge.svg\" alt=\"Open In Colab\"/></a>"
      ]
    },
    {
      "cell_type": "code",
      "execution_count": null,
      "id": "a99f9f44-1993-440c-a5d8-1df316412ed0",
      "metadata": {
        "id": "a99f9f44-1993-440c-a5d8-1df316412ed0"
      },
      "outputs": [],
      "source": [
        "# Arash Nateghian"
      ]
    },
    {
      "cell_type": "markdown",
      "id": "278bb624-ee87-4b3e-943f-dbe6df7bddb9",
      "metadata": {
        "id": "278bb624-ee87-4b3e-943f-dbe6df7bddb9"
      },
      "source": [
        "1.\tImplement the following function –\n",
        "def sort_records(list_of_tuples, order_by)\n",
        "# order by: first name, last name or distance\n",
        "# input: see sample list of people\n",
        "# output: display a list of names as specified (“order by”)\n"
      ]
    },
    {
      "cell_type": "code",
      "execution_count": null,
      "id": "cae1687e-574f-455d-bde0-7059369087a9",
      "metadata": {
        "id": "cae1687e-574f-455d-bde0-7059369087a9",
        "outputId": "39dc1356-d5cc-4786-d962-3f3924f370dc"
      },
      "outputs": [
        {
          "name": "stdout",
          "output_type": "stream",
          "text": [
            "\n",
            "Sorted by First Name:\n",
            "Donald Trump - 4.85 miles\n",
            "George Bush - 10.60 miles\n",
            "Jinping Xi - 8.36 miles\n",
            "Vladimir Putin - 3.62 miles\n",
            "\n",
            "Sorted by Last Name:\n",
            "George Bush - 10.60 miles\n",
            "Vladimir Putin - 3.62 miles\n",
            "Donald Trump - 4.85 miles\n",
            "Jinping Xi - 8.36 miles\n",
            "\n",
            "Sorted by Distance:\n",
            "Vladimir Putin - 3.62 miles\n",
            "Donald Trump - 4.85 miles\n",
            "Jinping Xi - 8.36 miles\n",
            "George Bush - 10.60 miles\n"
          ]
        }
      ],
      "source": [
        "# Function definition\n",
        "def sort_records(list_of_tuples, order_by):\n",
        "    order_by = order_by.lower().strip()\n",
        "\n",
        "    if order_by == \"first name\":\n",
        "        key_func = lambda x: x[0]\n",
        "    elif order_by == \"last name\":\n",
        "        key_func = lambda x: x[1]\n",
        "    elif order_by == \"distance\":\n",
        "        key_func = lambda x: x[2]\n",
        "    else:\n",
        "        print(\"Invalid order_by value. Use 'first name', 'last name', or 'distance'.\")\n",
        "        return\n",
        "\n",
        "    sorted_list = sorted(list_of_tuples, key=key_func)\n",
        "\n",
        "    print(f\"\\nSorted by {order_by.title()}:\")\n",
        "    for first, last, dist in sorted_list:\n",
        "        print(f\"{first} {last} - {dist:.2f} miles\")\n",
        "\n",
        "\n",
        "# --- Driver Code ---\n",
        "People = [\n",
        "    ('Donald', 'Trump', 4.85),\n",
        "    ('Vladimir', 'Putin', 3.62),\n",
        "    ('Jinping', 'Xi', 8.36),\n",
        "    ('George', 'Bush', 10.60)\n",
        "]\n",
        "\n",
        "# Test runs\n",
        "sort_records(People, \"first name\")\n",
        "sort_records(People, \"last name\")\n",
        "sort_records(People, \"distance\")\n"
      ]
    },
    {
      "cell_type": "code",
      "execution_count": null,
      "id": "0c3f0880-b711-4b3e-b59c-54dbee2c22be",
      "metadata": {
        "id": "0c3f0880-b711-4b3e-b59c-54dbee2c22be",
        "outputId": "dda4f9da-4e63-4966-f12e-94c376d93973"
      },
      "outputs": [
        {
          "name": "stdout",
          "output_type": "stream",
          "text": [
            "\n",
            "Sorted by First Name:\n",
            "Donald Trump - 4.85 miles\n",
            "George Bush - 10.60 miles\n",
            "Jinping Xi - 8.36 miles\n",
            "Vladimir Putin - 3.62 miles\n",
            "\n",
            "Sorted by Last Name:\n",
            "George Bush - 10.60 miles\n",
            "Vladimir Putin - 3.62 miles\n",
            "Donald Trump - 4.85 miles\n",
            "Jinping Xi - 8.36 miles\n",
            "\n",
            "Sorted by Distance:\n",
            "Vladimir Putin - 3.62 miles\n",
            "Donald Trump - 4.85 miles\n",
            "Jinping Xi - 8.36 miles\n",
            "George Bush - 10.60 miles\n"
          ]
        }
      ],
      "source": [
        "# Function definition\n",
        "def sort_records(list_of_tuples, order_by):\n",
        "    order_by = order_by.lower().strip()\n",
        "\n",
        "    if order_by == \"first name\":\n",
        "        key_func = lambda x: x[0]\n",
        "    elif order_by == \"last name\":\n",
        "        key_func = lambda x: x[1]\n",
        "    elif order_by == \"distance\":\n",
        "        key_func = lambda x: x[2]\n",
        "    else:\n",
        "        print(\"Invalid order_by value. Use 'first name', 'last name', or 'distance'.\")\n",
        "        return\n",
        "\n",
        "    sorted_list = sorted(list_of_tuples, key=key_func)\n",
        "\n",
        "    print(f\"\\nSorted by {order_by.title()}:\")\n",
        "    for first, last, dist in sorted_list:\n",
        "        print(f\"{first} {last} - {dist:.2f} miles\")\n",
        "\n",
        "\n",
        "# --- Driver Code ---\n",
        "People = [\n",
        "    ('Donald', 'Trump', 4.85),\n",
        "    ('Vladimir', 'Putin', 3.62),\n",
        "    ('Jinping', 'Xi', 8.36),\n",
        "    ('George', 'Bush', 10.60)\n",
        "]\n",
        "\n",
        "# Test runs\n",
        "sort_records(People, \"first name\")\n",
        "sort_records(People, \"last name\")\n",
        "sort_records(People, \"distance\")\n"
      ]
    },
    {
      "cell_type": "markdown",
      "id": "ff0c4cf9-83c6-4448-9782-c6f1793c9c0e",
      "metadata": {
        "id": "ff0c4cf9-83c6-4448-9782-c6f1793c9c0e"
      },
      "source": [
        "In this program, I implemented a function sort_records(list_of_tuples, order_by) that sorts a list of people based on their first name, last name, or distance to travel. The function uses Python’s built-in sorted() method with a lambda expression to specify the sorting key.\n",
        "I tested the function with a sample list of tuples containing names and distances. When different order_by values are passed, the list is correctly sorted and displayed in ascending order."
      ]
    },
    {
      "cell_type": "markdown",
      "id": "6f174be5-f48b-4733-bfd5-8c7de3bcf587",
      "metadata": {
        "id": "6f174be5-f48b-4733-bfd5-8c7de3bcf587"
      },
      "source": [
        "2.\tWrite a function to determine whether there exists a one-to-one character mapping between two strings\n",
        "o\tFor example, given s1 =’abc’ and s2 = ‘bcd’ – return true since we can map a to b, b to c, and c to d\n",
        "▪\tthere are 3 1-to-1 mappings between the 2 given strings\n",
        "o\tGiven s1 = ‘foo’ and s2 = ‘bar’ – return false since the character ‘o’ maps to two (different) characters – ‘a’ or ‘r’\n"
      ]
    },
    {
      "cell_type": "code",
      "execution_count": null,
      "id": "668ac797-e079-4982-936e-2672686a5e90",
      "metadata": {
        "id": "668ac797-e079-4982-936e-2672686a5e90",
        "outputId": "f1d128aa-0f93-4f2c-c1b3-ea17f1359da7"
      },
      "outputs": [
        {
          "name": "stdout",
          "output_type": "stream",
          "text": [
            "True\n",
            "False\n",
            "True\n",
            "False\n"
          ]
        }
      ],
      "source": [
        "def is_one_to_one_mapping(s1, s2):\n",
        "    if len(s1) != len(s2):\n",
        "        return False\n",
        "\n",
        "    mapping = {}\n",
        "    mapped_values = set()\n",
        "\n",
        "    for c1, c2 in zip(s1, s2):\n",
        "        if c1 in mapping:\n",
        "            if mapping[c1] != c2:\n",
        "                return False  # same char in s1 maps to two different chars\n",
        "        else:\n",
        "            if c2 in mapped_values:\n",
        "                return False  # two chars in s1 map to the same char in s2\n",
        "            mapping[c1] = c2\n",
        "            mapped_values.add(c2)\n",
        "\n",
        "    return True\n",
        "\n",
        "\n",
        "# --- Driver Code ---\n",
        "print(is_one_to_one_mapping(\"abc\", \"bcd\"))  # True\n",
        "print(is_one_to_one_mapping(\"foo\", \"bar\"))  # False\n",
        "print(is_one_to_one_mapping(\"paper\", \"title\"))  # True\n",
        "print(is_one_to_one_mapping(\"ab\", \"aa\"))  # False\n"
      ]
    },
    {
      "cell_type": "markdown",
      "id": "5613c7c4-7e2d-49c0-ad43-1a02eb112b52",
      "metadata": {
        "id": "5613c7c4-7e2d-49c0-ad43-1a02eb112b52"
      },
      "source": [
        "This program checks whether a one-to-one (bijective) character mapping exists between two strings.\n",
        "It first ensures both strings are of the same length. Then, it iterates through each pair of characters and builds a dictionary (mapping) to track how each character in s1 maps to a character in s2."
      ]
    },
    {
      "cell_type": "markdown",
      "id": "6ec8bc5e-8cb5-473a-87fe-02adf7177e62",
      "metadata": {
        "id": "6ec8bc5e-8cb5-473a-87fe-02adf7177e62"
      },
      "source": [
        "**What did you learn?**\n",
        "\n",
        "I learned how to use lambda functions and sorted() to dynamically sort lists based on different criteria, and how to apply dictionaries and sets to check for one-to-one character mappings between strings. These exercises improved my understanding of data structures, key-based sorting, and logical validation in Python.\n",
        "\n",
        "**What challenges did you encounter, if any?**\n",
        "\n",
        "The main challenge was ensuring that the sorting function handled all possible input variations and that the one-to-one mapping correctly rejected duplicate or conflicting mappings. Debugging required careful thought about logic flow and edge cases.\n",
        "\n",
        "**Anything else you would like to mention?**\n",
        "\n",
        "Testing with multiple examples helped confirm that both functions worked correctly in all scenarios, including invalid inputs or repeated values. This reinforced the importance of thorough test cases.\n",
        "\n",
        "**What enhancement(s) did you make?**\n",
        "\n",
        "I enhanced both functions by adding input validation, case-insensitive handling, and clear, formatted output. These improvements made the code more robust, readable, and user-friendly."
      ]
    }
  ],
  "metadata": {
    "kernelspec": {
      "display_name": "Python 3 (ipykernel)",
      "language": "python",
      "name": "python3"
    },
    "language_info": {
      "codemirror_mode": {
        "name": "ipython",
        "version": 3
      },
      "file_extension": ".py",
      "mimetype": "text/x-python",
      "name": "python",
      "nbconvert_exporter": "python",
      "pygments_lexer": "ipython3",
      "version": "3.13.5"
    },
    "colab": {
      "provenance": [],
      "include_colab_link": true
    }
  },
  "nbformat": 4,
  "nbformat_minor": 5
}