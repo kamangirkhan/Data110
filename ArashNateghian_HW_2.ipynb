{
  "nbformat": 4,
  "nbformat_minor": 0,
  "metadata": {
    "colab": {
      "provenance": [],
      "authorship_tag": "ABX9TyND+6EoRoQOf6Oo2JNZNcdp",
      "include_colab_link": true
    },
    "kernelspec": {
      "name": "python3",
      "display_name": "Python 3"
    },
    "language_info": {
      "name": "python"
    }
  },
  "cells": [
    {
      "cell_type": "markdown",
      "metadata": {
        "id": "view-in-github",
        "colab_type": "text"
      },
      "source": [
        "<a href=\"https://colab.research.google.com/github/kamangirkhan/Data110/blob/main/ArashNateghian_HW_2.ipynb\" target=\"_parent\"><img src=\"https://colab.research.google.com/assets/colab-badge.svg\" alt=\"Open In Colab\"/></a>"
      ]
    },
    {
      "cell_type": "code",
      "source": [
        "# Arash Nateghian"
      ],
      "metadata": {
        "id": "Vd6fPemltO72"
      },
      "execution_count": null,
      "outputs": []
    },
    {
      "cell_type": "markdown",
      "source": [
        "1.\tWrite code to:\n",
        "\n",
        "*   prompt user for a value between 0.0 and 1.0 inclusively\n",
        "*   If the value is out of range, print an error message\n",
        "*   Don’t proceed (with the next step) until a valid value is provided\n",
        "*   If the value is between 0.0 and 1.0, print the corresponding ‘letter grade’:\n",
        "\n",
        "-\t'>= 0.9 | A'\n",
        "-\t'>= 0.8 | B'\n",
        "-\t'>= 0.7 | C'\n",
        "-\t'>= 0.6 | D'\n",
        "-\t'< 0.6  | F'\n"
      ],
      "metadata": {
        "id": "KXpO2FxTrqVZ"
      }
    },
    {
      "cell_type": "code",
      "execution_count": 6,
      "metadata": {
        "colab": {
          "base_uri": "https://localhost:8080/"
        },
        "id": "DMFF1psunQMg",
        "outputId": "33dc8c70-b832-4545-9b63-dadccaff5e18"
      },
      "outputs": [
        {
          "output_type": "stream",
          "name": "stdout",
          "text": [
            "Enter a number between 0.0 and 1.0 : .5\n",
            "D\n"
          ]
        }
      ],
      "source": [
        "n = float (input ('Enter a number between 0.0 and 1.0 : '))\n",
        "if n > 1.0:\n",
        "  print ('Entered number is out of range')\n",
        "  n = input ('Enter a number between 0.0 and 1.0 : ')\n",
        "elif  n >= 0.9:\n",
        "  print ('A')\n",
        "elif  n >= 0.8:\n",
        "  print ('B')\n",
        "elif  n >= 0.7:\n",
        "  print ('C')\n",
        "elif  n >= 0.6:\n",
        "  print ('D')\n",
        "elif  n < 0.6:\n",
        "  print ('E')"
      ]
    },
    {
      "cell_type": "markdown",
      "source": [
        "The program prompts the user to enter a number between 0.0 and 1.0.\n",
        "\n",
        "If the entered value is greater than 1.0, it displays: \"Entered number is out of range.\"\n",
        "\n",
        "If the value is within range, it assigns a letter grade:\n",
        "\n",
        "A if the value is ≥ 0.9\n",
        "\n",
        "B if the value is ≥ 0.8\n",
        "\n",
        "C if the value is ≥ 0.7\n",
        "\n",
        "D if the value is ≥ 0.6\n",
        "\n",
        "E if the value is < 0.6"
      ],
      "metadata": {
        "id": "Qgn2kQUgtfj8"
      }
    },
    {
      "cell_type": "markdown",
      "source": [
        "2.\tIn a new Colab cell, implement iteration logic to print out the following sequence of numbers: 1000, 995, 990, …, 5, 0."
      ],
      "metadata": {
        "id": "1xiQLzTmtF7g"
      }
    },
    {
      "cell_type": "code",
      "source": [
        "j = 0\n",
        "for i in range (1000, -1, -5):\n",
        "  print (i, end= \"\\t\")\n",
        "  j += 1\n",
        "  if j % 20 == 0:\n",
        "    print ()\n",
        "    j += 20"
      ],
      "metadata": {
        "colab": {
          "base_uri": "https://localhost:8080/"
        },
        "id": "MwuhrUpzo7oP",
        "outputId": "b01ba7c1-35f5-4244-9271-e42c42210aec"
      },
      "execution_count": 24,
      "outputs": [
        {
          "output_type": "stream",
          "name": "stdout",
          "text": [
            "1000\t995\t990\t985\t980\t975\t970\t965\t960\t955\t950\t945\t940\t935\t930\t925\t920\t915\t910\t905\t\n",
            "900\t895\t890\t885\t880\t875\t870\t865\t860\t855\t850\t845\t840\t835\t830\t825\t820\t815\t810\t805\t\n",
            "800\t795\t790\t785\t780\t775\t770\t765\t760\t755\t750\t745\t740\t735\t730\t725\t720\t715\t710\t705\t\n",
            "700\t695\t690\t685\t680\t675\t670\t665\t660\t655\t650\t645\t640\t635\t630\t625\t620\t615\t610\t605\t\n",
            "600\t595\t590\t585\t580\t575\t570\t565\t560\t555\t550\t545\t540\t535\t530\t525\t520\t515\t510\t505\t\n",
            "500\t495\t490\t485\t480\t475\t470\t465\t460\t455\t450\t445\t440\t435\t430\t425\t420\t415\t410\t405\t\n",
            "400\t395\t390\t385\t380\t375\t370\t365\t360\t355\t350\t345\t340\t335\t330\t325\t320\t315\t310\t305\t\n",
            "300\t295\t290\t285\t280\t275\t270\t265\t260\t255\t250\t245\t240\t235\t230\t225\t220\t215\t210\t205\t\n",
            "200\t195\t190\t185\t180\t175\t170\t165\t160\t155\t150\t145\t140\t135\t130\t125\t120\t115\t110\t105\t\n",
            "100\t95\t90\t85\t80\t75\t70\t65\t60\t55\t50\t45\t40\t35\t30\t25\t20\t15\t10\t5\t\n",
            "0\t"
          ]
        }
      ]
    },
    {
      "cell_type": "markdown",
      "source": [
        "The variable j is initialized as a counter with the value 0.\n",
        "Using the range function, the code prints numbers starting from 1000 down to 0 in steps of -5.\n",
        "To avoid having one long continuous line of numbers, the counter j is incremented by 1 after each print.\n",
        "Whenever j reaches 20, the program prints a newline and resets the output to the next line."
      ],
      "metadata": {
        "id": "Njanlt6wvr-l"
      }
    },
    {
      "cell_type": "markdown",
      "source": [
        "3.\tWrite additional code (in another Colab cell) to practice what you have learned this week"
      ],
      "metadata": {
        "id": "aisDEBuKtLI-"
      }
    },
    {
      "cell_type": "code",
      "source": [
        "print(\"Numbers until 20, skipping multiples of 4:\")\n",
        "i = 1\n",
        "while i <= 20:\n",
        "    if i % 4 == 0:\n",
        "        i += 1\n",
        "        continue\n",
        "    print(i, end=\" \")\n",
        "    i += 1"
      ],
      "metadata": {
        "colab": {
          "base_uri": "https://localhost:8080/"
        },
        "id": "_odAR1HEqB3I",
        "outputId": "a95c122d-789a-415f-80d2-b1fe68317839"
      },
      "execution_count": 11,
      "outputs": [
        {
          "output_type": "stream",
          "name": "stdout",
          "text": [
            "Numbers until 20, skipping multiples of 4:\n",
            "1 2 3 5 6 7 9 10 11 13 14 15 17 18 19 "
          ]
        }
      ]
    },
    {
      "cell_type": "markdown",
      "source": [
        "The code starts by printing the message: \"Numbers until 20, skipping multiples of 4:\".\n",
        "A variable i is initialized with the value 1.\n",
        "Using a while loop, the code continues to run as long as i is less than or equal to 20.\n",
        "Inside the loop, if i is a multiple of 4, i is increased by 1 and the continue statement skips printing that number.\n",
        "If the number is not a multiple of 4, it is printed on the same line separated by spaces.\n",
        "After each step, i is increased by 1 until the loop ends."
      ],
      "metadata": {
        "id": "7Xcpigqiw9C2"
      }
    },
    {
      "cell_type": "markdown",
      "source": [
        "**What did I learn?**\n",
        "\n",
        "The first task reinforced how important it is to validate user input before proceeding, while the second showed me how to use range(start, stop, step) for controlled iteration. The additional practice with a while loop reminded me of the difference between for and while loops, and how continue can be used to skip unwanted values.\n",
        "\n",
        "**What challenges did I encounter?**\n",
        "\n",
        "One challenge I faced was managing user input properly. For example, when the number is out of range, it required a careful check and a second input prompt. Another challenge was formatting the loop output: adding tabs and line breaks to keep the sequence readable. Also, with the while loop, I had to be careful to increment i properly to avoid an infinite loop.\n",
        "\n",
        "**Anything else I would like to mention?**\n",
        "\n",
        "This homework helped me see how simple structures like loops and conditions combine to solve real problems. I also realized that readability matters; formatting output with spacing or breaking lines makes the results easier to understand.\n",
        "\n",
        "**What enhancements did I make?**\n",
        "\n",
        "In the countdown loop (1000 → 0), I added logic to format the output by inserting line breaks every 20 numbers, making it more readable.\n",
        "\n",
        "In the while loop practice, I enhanced it by adding a continue statement to skip multiples of 4, instead of filtering them after printing."
      ],
      "metadata": {
        "id": "-86k_Ha1xKWs"
      }
    }
  ]
}