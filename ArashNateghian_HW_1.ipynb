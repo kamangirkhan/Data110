{
  "cells": [
    {
      "cell_type": "markdown",
      "metadata": {
        "id": "view-in-github",
        "colab_type": "text"
      },
      "source": [
        "<a href=\"https://colab.research.google.com/github/kamangirkhan/Data110/blob/main/ArashNateghian_HW_1.ipynb\" target=\"_parent\"><img src=\"https://colab.research.google.com/assets/colab-badge.svg\" alt=\"Open In Colab\"/></a>"
      ]
    },
    {
      "cell_type": "markdown",
      "source": [
        "# Arash Nateghian"
      ],
      "metadata": {
        "id": "pcUMaaN9Khw5"
      }
    },
    {
      "cell_type": "code",
      "source": [
        "def devNumbers():\n",
        "    d = n1 / n2\n",
        "    return d\n",
        "def remNumbers():\n",
        "    r = n1 % n2\n",
        "    return r\n",
        "\n",
        "numbers = input('Add two numbers? [y/n] ')\n",
        "\n",
        "while numbers == 'y':\n",
        "    n1 = int(input('First Number: '))\n",
        "    n2 = int(input('Second Number: '))\n",
        "    d = devNumbers()\n",
        "    r = remNumbers()\n",
        "    print('Quotient:', d)\n",
        "    print('Remainder:', r)\n",
        "    numbers = input('Add two numbers? [y/n] ')\n",
        "\n",
        "print('Have a good day!')"
      ],
      "metadata": {
        "id": "E5_5Isb3Kdro",
        "outputId": "c0a78969-d8ad-4725-8d6c-7d4d6d1202ec",
        "colab": {
          "base_uri": "https://localhost:8080/"
        }
      },
      "execution_count": null,
      "outputs": [
        {
          "output_type": "stream",
          "name": "stdout",
          "text": [
            "Add two numbers? [y/n] y\n",
            "First Number: 5\n",
            "Second Number: 3\n",
            "Quotient: 1.6666666666666667\n",
            "Remainder: 2\n",
            "Add two numbers? [y/n] n\n",
            "Have a good day!\n"
          ]
        }
      ]
    },
    {
      "cell_type": "markdown",
      "source": [
        "Write-up:\n",
        "I enhanced my code by introducing functions and a while loop. Instead of writing the division and remainder formulas directly in the main program, I placed them inside functions (devNumbers and remNumbers). This separates the calculations from the main code, making it easier to read, maintain, and reuse.\n",
        "\n",
        "The while loop allows the user to repeatedly test the program by entering new pairs of numbers without restarting it. Inside the loop, the program asks for two numbers, then calculates the quotient using integer division and the remainder using the modulus operator. Finally, the results are displayed before asking the user whether they want to continue or exit.\n",
        "\n",
        "This structure makes the code more organized, interactive, and user-friendly."
      ],
      "metadata": {
        "id": "ZON528STLMLl"
      }
    },
    {
      "cell_type": "code",
      "source": [
        "def convertCtoF():\n",
        "    f = 1.8 * c + 32\n",
        "    return f\n",
        "def convertKtoM():\n",
        "    m = 0.621 * k\n",
        "    return m\n",
        "\n",
        "choose = input('1- Celsius to Fahrenheit or 2- Kilometer to Mile? or 0- Exit[0/1/2] ')\n",
        "\n",
        "while choose != '0':\n",
        "    if choose == '1':\n",
        "        c = float(input('Insert Temperature in Celius: '))\n",
        "        f = convertCtoF()\n",
        "        print(c, 'degree in Celsius equals to ',f, 'in Farenheit')\n",
        "    elif choose == '2':\n",
        "        k = float(input('Insert Distance in Kilometer: '))\n",
        "        m = convertKtoM()\n",
        "        print(k, 'Kilometer(s) equals to ',m, 'miles')\n",
        "    else:\n",
        "        print('Invalid Choice, Please Insert 0 or 1 or 2')\n",
        "    choose = input('1- Celsius to Fahrenheit or 2- Kilometer to Mile? or 0- Exit[0/1/2] ')\n",
        "\n",
        "print('Have a good day!')\n",
        "\n"
      ],
      "metadata": {
        "id": "sU4GOpubLNzm",
        "outputId": "9b48efa8-ce34-4c2c-c91b-bc2aa2690b98",
        "colab": {
          "base_uri": "https://localhost:8080/"
        }
      },
      "execution_count": null,
      "outputs": [
        {
          "output_type": "stream",
          "name": "stdout",
          "text": [
            "1- Celsius to Fahrenheit or 2- Kilometer to Mile? or 0- Exit[0/1/2] 1\n",
            "Insert Temperature in Celius: 10\n",
            "10.0 degree in Celsius equals to  50.0 in Farenheit\n",
            "1- Celsius to Fahrenheit or 2- Kilometer to Mile? or 0- Exit[0/1/2] 2\n",
            "Insert Distance in Kilometer: 10\n",
            "10.0 Kilometer(s) equals to  6.21 miles\n",
            "1- Celsius to Fahrenheit or 2- Kilometer to Mile? or 0- Exit[0/1/2] 3\n",
            "Invalid Choice, Please Insert 0 or 1 or 2\n",
            "1- Celsius to Fahrenheit or 2- Kilometer to Mile? or 0- Exit[0/1/2] 0\n",
            "Have a good day!\n"
          ]
        }
      ]
    },
    {
      "cell_type": "markdown",
      "source": [
        "I enhanced my code by introducing functions, conditional statements, and a while loop. By using functions, I kept the formulas separate from the main logic, which makes the code easier to read, maintain, and reuse. The while loop allows the user to repeatedly perform conversions without restarting the program. Inside the loop, I applied an if/elif/else structure to handle different cases:\n",
        "\n",
        "If the user enters 1, they can convert Celsius to Fahrenheit.\n",
        "\n",
        "If the user enters 2, they can convert kilometers to miles.\n",
        "\n",
        "If the user enters 0, the program ends.\n",
        "\n",
        "Any other input prompts the user to try again with a valid option.\n",
        "\n",
        "This structure makes the program more interactive, user-friendly, and efficient."
      ],
      "metadata": {
        "id": "Ba0obcCpLo_O"
      }
    }
  ],
  "metadata": {
    "colab": {
      "toc_visible": true,
      "provenance": [],
      "include_colab_link": true
    },
    "kernelspec": {
      "display_name": "Python 3",
      "name": "python3"
    }
  },
  "nbformat": 4,
  "nbformat_minor": 0
}