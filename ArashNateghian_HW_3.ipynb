{
  "nbformat": 4,
  "nbformat_minor": 0,
  "metadata": {
    "colab": {
      "provenance": [],
      "authorship_tag": "ABX9TyP9uEvmGK0wT/Tj4FUN3g2h",
      "include_colab_link": true
    },
    "kernelspec": {
      "name": "python3",
      "display_name": "Python 3"
    },
    "language_info": {
      "name": "python"
    }
  },
  "cells": [
    {
      "cell_type": "markdown",
      "metadata": {
        "id": "view-in-github",
        "colab_type": "text"
      },
      "source": [
        "<a href=\"https://colab.research.google.com/github/kamangirkhan/Data110/blob/main/ArashNateghian_HW_3.ipynb\" target=\"_parent\"><img src=\"https://colab.research.google.com/assets/colab-badge.svg\" alt=\"Open In Colab\"/></a>"
      ]
    },
    {
      "cell_type": "markdown",
      "source": [
        "\n",
        "# Arash Nateghian"
      ],
      "metadata": {
        "id": "-bLbObCuQ_hP"
      }
    },
    {
      "cell_type": "markdown",
      "source": [
        "1.\tCreate a function which will accept the shape of an object (circle, rectangle, or a shape of your choice) and then calculate its corresponding area.\n",
        "\n",
        "o\tModify you function to perform one addition shape of your choice.\n",
        "\n",
        "o\tPrompt user to provide arguments accordingly (e.g., base, height)\n"
      ],
      "metadata": {
        "id": "g3xA6VrzMJGn"
      }
    },
    {
      "cell_type": "code",
      "execution_count": 4,
      "metadata": {
        "colab": {
          "base_uri": "https://localhost:8080/"
        },
        "id": "-tsVz07EMHSW",
        "outputId": "4e15b64e-ef1e-4662-cd55-dfcb519b0628"
      },
      "outputs": [
        {
          "output_type": "stream",
          "name": "stdout",
          "text": [
            "\n",
            "=== Area Menu ===\n",
            "1. Area of Circle\n",
            "2. Area of Triangle\n",
            "3. Area of Rectangle\n",
            "4. Area of Square\n",
            "x. Exit\n",
            "Choose an option (1–4 or x to exit): 1\n",
            "Enter Radius: 2\n",
            "Circle Area: 12.56\n",
            "\n",
            "=== Area Menu ===\n",
            "1. Area of Circle\n",
            "2. Area of Triangle\n",
            "3. Area of Rectangle\n",
            "4. Area of Square\n",
            "x. Exit\n",
            "Choose an option (1–4 or x to exit): 2\n",
            "Enter Base: 2\n",
            "Enter Height: 3\n",
            "Triangle Area: 3.0\n",
            "\n",
            "=== Area Menu ===\n",
            "1. Area of Circle\n",
            "2. Area of Triangle\n",
            "3. Area of Rectangle\n",
            "4. Area of Square\n",
            "x. Exit\n",
            "Choose an option (1–4 or x to exit): 3\n",
            "Enter Length: 2\n",
            "Enter Width: 3\n",
            "Rectangle Area: 6.0\n",
            "\n",
            "=== Area Menu ===\n",
            "1. Area of Circle\n",
            "2. Area of Triangle\n",
            "3. Area of Rectangle\n",
            "4. Area of Square\n",
            "x. Exit\n",
            "Choose an option (1–4 or x to exit): 4\n",
            "Enter Side Length: 3\n",
            "Square Area: 9.0\n",
            "\n",
            "=== Area Menu ===\n",
            "1. Area of Circle\n",
            "2. Area of Triangle\n",
            "3. Area of Rectangle\n",
            "4. Area of Square\n",
            "x. Exit\n",
            "Choose an option (1–4 or x to exit): 5\n",
            "Invalid choice. Please select 1–4 or x.\n",
            "\n",
            "=== Area Menu ===\n",
            "1. Area of Circle\n",
            "2. Area of Triangle\n",
            "3. Area of Rectangle\n",
            "4. Area of Square\n",
            "x. Exit\n",
            "Choose an option (1–4 or x to exit): x\n",
            "Exiting program. Goodbye!\n"
          ]
        }
      ],
      "source": [
        "def circle(r):\n",
        "    c = 3.14 * (abs(r) ** 2)\n",
        "    return c\n",
        "\n",
        "def triangle(b, h):\n",
        "    t = abs(b) * abs(h) / 2\n",
        "    return t\n",
        "\n",
        "def rectangle(l, w):\n",
        "    r = abs(l) * abs(w)\n",
        "    return r\n",
        "\n",
        "def square(l):\n",
        "    s = abs(l) ** 2\n",
        "    return s\n",
        "\n",
        "def menu():\n",
        "    while True:\n",
        "        print(\"\\n=== Area Menu ===\")\n",
        "        print(\"1. Area of Circle\")\n",
        "        print(\"2. Area of Triangle\")\n",
        "        print(\"3. Area of Rectangle\")\n",
        "        print(\"4. Area of Square\")\n",
        "        print(\"x. Exit\")\n",
        "\n",
        "        choice = input(\"Choose an option (1–4 or x to exit): \")\n",
        "\n",
        "        if choice == \"1\":\n",
        "            try:\n",
        "                r = float(input(\"Enter Radius: \"))\n",
        "                print(\"Circle Area:\", circle(r))\n",
        "            except ValueError:\n",
        "                print(\"Invalid input. Please enter a number.\")\n",
        "\n",
        "        elif choice == \"2\":\n",
        "            try:\n",
        "                b = float(input(\"Enter Base: \"))\n",
        "                h = float(input(\"Enter Height: \"))\n",
        "                print(\"Triangle Area:\", triangle(b, h))\n",
        "            except ValueError:\n",
        "                print(\"Invalid input. Please enter numbers.\")\n",
        "\n",
        "        elif choice == \"3\":\n",
        "            try:\n",
        "                l = float(input(\"Enter Length: \"))\n",
        "                w = float(input(\"Enter Width: \"))\n",
        "                print(\"Rectangle Area:\", rectangle(l, w))\n",
        "            except ValueError:\n",
        "                print(\"Invalid input. Please enter numbers.\")\n",
        "\n",
        "        elif choice == \"4\":\n",
        "            try:\n",
        "                l = float(input(\"Enter Side Length: \"))\n",
        "                print(\"Square Area:\", square(l))\n",
        "            except ValueError:\n",
        "                print(\"Invalid input. Please enter a number.\")\n",
        "\n",
        "        elif choice.lower() == \"x\":\n",
        "            print(\"Exiting program. Goodbye!\")\n",
        "            break\n",
        "\n",
        "        else:\n",
        "            print(\"Invalid choice. Please select 1–4 or x.\")\n",
        "\n",
        "# Start the program\n",
        "menu()"
      ]
    },
    {
      "cell_type": "markdown",
      "source": [
        "The code defines four functions to calculate the area of basic geometric shapes—circle, triangle, rectangle, and square, using absolute values to avoid negative dimensions. A menu-driven interface allows users to choose which shape’s area to compute, prompts for the necessary input, and includes error handling via try-except blocks for invalid input. The menu loops continuously until the user chooses to exit by entering \"x\"."
      ],
      "metadata": {
        "id": "QgsM6a31QEJh"
      }
    },
    {
      "cell_type": "markdown",
      "source": [
        "2.\tCreate another function which can accept an unlimited number of values as its arguments and return the sum, average, maximum, and minimum."
      ],
      "metadata": {
        "id": "5sQdt4qNMaEH"
      }
    },
    {
      "cell_type": "code",
      "source": [
        "def ops(numbers):\n",
        "    total = sum(numbers)\n",
        "    avg = round(total / len(numbers), 2)\n",
        "    maximum = max(numbers)\n",
        "    minimum = min(numbers)\n",
        "    return f\"Sum = {total}, Average = {avg}, Max = {maximum}, Min = {minimum}\"\n",
        "\n",
        "input_str = input(\"Enter numbers (comma-separated): \")\n",
        "\n",
        "try:\n",
        "    nums = [float(x) for x in input_str.split(\",\")]\n",
        "    print(ops(nums))\n",
        "except:\n",
        "    print(\"Invalid input. Please enter numbers only.\")"
      ],
      "metadata": {
        "colab": {
          "base_uri": "https://localhost:8080/"
        },
        "id": "43bsH72LMrEQ",
        "outputId": "f220629e-20b3-485d-97a8-16b21f34567b"
      },
      "execution_count": 5,
      "outputs": [
        {
          "output_type": "stream",
          "name": "stdout",
          "text": [
            "Enter numbers (comma-separated): 1,2,3,4,5,6,7,8,9,0\n",
            "Sum = 45.0, Average = 4.5, Max = 9.0, Min = 0.0\n"
          ]
        }
      ]
    },
    {
      "cell_type": "markdown",
      "source": [
        "The code defines a function ops(numbers) that takes a list of numeric values and returns the sum, average (rounded to 2 decimal places), maximum, and minimum. The program prompts the user to input numbers separated by commas, converts the input into a list of floats, and passes it to the function. It includes error handling using a try-except block to ensure only valid numeric inputs are processed, displaying an error message otherwise."
      ],
      "metadata": {
        "id": "0qw9zBh6QeVS"
      }
    }
  ]
}